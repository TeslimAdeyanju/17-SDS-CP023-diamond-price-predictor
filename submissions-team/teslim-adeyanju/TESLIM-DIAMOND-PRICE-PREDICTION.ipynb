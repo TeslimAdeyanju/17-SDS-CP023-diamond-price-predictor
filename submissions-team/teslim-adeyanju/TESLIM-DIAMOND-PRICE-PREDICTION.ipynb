{
 "cells": [
  {
   "cell_type": "markdown",
   "metadata": {},
   "source": [
    "# 💎 **DIAMOND PRICE PREDICTION: THE 4C MODEL**\n",
    "---\n"
   ]
  },
  {
   "cell_type": "markdown",
   "metadata": {},
   "source": [
    "### Table of Contents\n",
    "\n",
    "By following this roadmap, readers can gain a comprehensive understanding of the Diamond Price Prediction project. The roadmap is divided into the following sections:\n",
    "\n",
    "\n",
    "1. [Introduction](#1-Introduction)\n",
    "   - [Problem Statement](#problem-statement)\n",
    "   - [Objective](#objective)\n",
    "   - [Methodology](#methodology)\n",
    "2. [Data Collection and Preprocessing](Data-Collection-and-Preprocessing)\n",
    "   - [Key Libraries](#key-libraries)\n",
    "   - [Data Loading](#2.2-Data-Loading)\n",
    "   - [Data Cleaning and Formatting](#data-cleaning-and-formatting)\n",
    "3. [Exploratory Data Analysis](#3-Exploratory-Data-Analysis)\n",
    "   - [Data Visualization: Categorical Variables](#data-visualization)\n",
    "   - [Data Visualization: Numerical Variables](#data-visualization)\n",
    "   - [Data Visualization: Target Variable](#data-visualization)\n",
    "4. [Setting up Validation Framework](#4-Feature-Engineering)\n",
    "   - [Data Splitting](#data-splitting)\n",
    "   - [Target variable Splitting](#target-variable-splitting)\n",
    "5. [Features Engineering](#5-Features-Engineering)\n",
    "   - [Outliers Remove: (Based on df_train only)](#feature-selection)\n",
    "   - [Scale Transformation:Numerical Columns)](#feature-engineering)\n",
    "   - [Encoding Categorical Variables](#feature-engineering)\n",
    "   - [Transforming Target Variable](#feature-engineering)\n",
    "   - [Prepare the Data for Model Building](#feature-engineering)\n"
   ]
  },
  {
   "cell_type": "markdown",
   "metadata": {},
   "source": [
    "# 📚 1. INTRODUCTION\n",
    "\n",
    "\n",
    "<div style=\"font-family: Avenir, sans-serif; font-size: 16px; line-height: 1.6; color: white; background-color: #333; padding: 10px; border-radius: 5px;\">\n",
    "This section provides an overview of the dataset and the problem we are trying to solve. We will also discuss the data overview, project objective, methodology and the tools (libaries) we will use to solve the problem.\n",
    "\n",
    "</div>"
   ]
  },
  {
   "cell_type": "markdown",
   "metadata": {},
   "source": [
    "## 🔍 Dataset Overview\n",
    "____"
   ]
  },
  {
   "cell_type": "markdown",
   "metadata": {},
   "source": [
    "Link to Dataset: https://www.kaggle.com/datasets/willianoliveiragibin/type-of-the-diamond\n",
    "\n",
    "The dataset contains information about the attributes of diamonds, such as carat, cut, color, clarity, depth, and dimensions. The target variable is the price of the diamond. The dataset has 10 columns and 53940 rows.    \n",
    "\n",
    "The Diamond Price Prediction project aims to build a machine learning model that accurately estimates the price of a diamond based on its attributes such as carat, cut, color, clarity, depth, and dimensions. The model will help diamond sellers, buyers, and enthusiasts to predict the price of a diamond before making a purchase or sale."
   ]
  },
  {
   "cell_type": "markdown",
   "metadata": {},
   "source": [
    "## 🔍 Project Objective\n",
    "___"
   ]
  },
  {
   "cell_type": "markdown",
   "metadata": {},
   "source": [
    "\n",
    "\n",
    "The primary objective of this project is to develop a robust **machine learning regression model** capable of accurately predicting the **price of a diamond** based on a combination of its **physical and categorical attributes**.\n",
    "\n",
    "Diamonds are valued based on a variety of characteristics that influence their market price. These include both **quantitative features** (such as carat weight and dimensions) and **qualitative features** (such as cut, color, and clarity). The goal of this project is to leverage these attributes to train a model that can learn the underlying patterns in pricing and generalize well to unseen data.\n",
    "\n",
    "To achieve this, the project will follow a structured machine learning pipeline that includes:\n",
    "\n",
    "- **Data Exploration & Cleaning**: Understanding the dataset, handling missing values, and correcting inconsistencies.\n",
    "- **Feature Engineering & Selection**: Transforming raw features and identifying the most predictive variables using techniques such as correlation analysis and SelectKBest.\n",
    "- **Preprocessing**: Encoding categorical variables and scaling numerical ones to prepare the data for modeling.\n",
    "- **Model Training**: Implementing and comparing various regression models, including Linear Regression, Decision Tree Regressor, and ensemble-based methods such as Random Forest, XGBoost, LightGBM, and CatBoost.\n",
    "- **Model Evaluation**: Assessing model performance using regression metrics such as RMSE, MAE, and R² on a held-out test set to ensure accuracy and generalizability.\n",
    "\n",
    "By the end of the project, the model should be able to **predict the price of a diamond with a high degree of accuracy** based on its known features. This approach has practical applications in the jewelry industry, e-commerce platforms, and appraisal services where automated and consistent diamond pricing is essential.\n"
   ]
  },
  {
   "cell_type": "markdown",
   "metadata": {},
   "source": [
    "## 🔍 Methodology\n",
    "___"
   ]
  },
  {
   "cell_type": "markdown",
   "metadata": {},
   "source": [
    "\n",
    "**Exploratory Data Analysis:**  \n",
    "- Perform statistical analysis and visualizations to understand relationships between attributes.\n",
    "- Handle missing values, outliers, and categorical encoding for machine learning.\n",
    "\n",
    "**Model Development:**\n",
    "- Engineer new features (e.g., price per carat, light reflection efficiency, etc.) to improve model accuracy.\n",
    "- Train regression models (e.g., Linear Regression, Decision Trees, Random Forest, Gradient Boosting, XGBoost) to predict diamond prices.\n",
    "- Perform hyperparameter tuning and evaluate models using RMSE, MAE, and R² scores.\n",
    "- Select the best-performing model for deployment.\n",
    "\n",
    "**Model Deployment:**\n",
    "- Develop an interactive Streamlit web app where users can input diamond attributes and receive a predicted price.\n",
    "- Deploy the app on Streamlit Community Cloud or another hosting service."
   ]
  },
  {
   "cell_type": "markdown",
   "metadata": {},
   "source": [
    "## 🔍 Library\n",
    "___"
   ]
  },
  {
   "cell_type": "markdown",
   "metadata": {},
   "source": [
    "The success of this project hinges on leveraging powerful Python libraries that enable prediction, feature engineering, modeling, and insightful visualization. These tools form the backbone of our notebook, streamlining the end-to-end process—from data retrieval and preparation to modeling and evaluation.\n",
    "Below is a breakdown of the core libraries used in this project, logically grouped by functionality, along with their specific roles:\n",
    "\n",
    "- **Data Manipulation and Analysis:**\n",
    "  - `pandas`: Data manipulation and analysis.\n",
    "  - `numpy`: Mathematical operations on arrays and matrices.\n",
    "  - `scipy`: Scientific and technical computing.\n",
    "\n",
    "\n",
    "- **Data Visualization:**\n",
    "  - `matplotlib`: Data visualization library.\n",
    "  - `seaborn`: Data visualization library based on matplotlib.\n",
    "  \n",
    "\n",
    "- **Machine Learning:**\n",
    "  - `scikit-learn`: Machine learning library for building models.\n",
    "  - `xgboost`: Gradient boosting library for regression and classification tasks.\n",
    "  - `lightgbm`: Gradient boosting library for regression and classification tasks.\n",
    "  - `catboost`: Gradient boosting library for regression and classification tasks.\n",
    "  - `yellowbrick`: Visualization library for machine learning.\n",
    "\n",
    "\n",
    "- **Model Evaluation:**\n",
    "  - `sklearn.metrics`: Metrics for evaluating model performance.\n",
    "  - `sklearn.model_selection`: Tools for model selection and evaluation.\n",
    "\n",
    "  "
   ]
  },
  {
   "cell_type": "markdown",
   "metadata": {},
   "source": [
    "# 📚 2. DATA COLLECTION AND PREPROCESSING\n",
    "\n",
    "\n",
    "<div style=\"font-family: Avenir, sans-serif; font-size: 16px; line-height: 1.6; color: white; background-color: #333; padding: 10px; border-radius: 5px;\">\n",
    "\n",
    "This section focuses on loading the dataset and performing data preprocessing tasks such as handling missing values, changing data types, and confirming the absence of duplicates. This will make our dataset ready for exploratory data analysis and model development.\n",
    "</div>"
   ]
  },
  {
   "cell_type": "code",
   "execution_count": null,
   "metadata": {},
   "outputs": [],
   "source": [
    "# Import Libraries\n",
    "import numpy as np\n",
    "import pandas as pd\n",
    "import matplotlib.pyplot as plt\n",
    "import seaborn as sns\n",
    "plt.style.use('ggplot')\n",
    "from sklearn.preprocessing import PolynomialFeatures\n",
    "from sklearn.linear_model import LinearRegression\n",
    "from sklearn.metrics import r2_score\n",
    "from sklearn.compose import ColumnTransformer\n",
    "from sklearn.preprocessing import StandardScaler, OneHotEncoder\n",
    "from matplotlib.gridspec import GridSpec\n",
    "from sklearn.model_selection import train_test_split\n",
    "from sklearn.preprocessing import StandardScaler\n",
    "from sklearn.preprocessing import OneHotEncoder\n",
    "import matplotlib.pyplot as plt\n",
    "import numpy as np\n",
    "from matplotlib.cm import coolwarm, ScalarMappable\n",
    "from matplotlib.colors import Normalize\n",
    "from mpl_toolkits.mplot3d import Axes3D\n"
   ]
  },
  {
   "cell_type": "markdown",
   "metadata": {},
   "source": [
    "## 🔍 Data Loading \n",
    "___"
   ]
  },
  {
   "cell_type": "code",
   "execution_count": 22,
   "metadata": {},
   "outputs": [
    {
     "data": {
      "application/vnd.microsoft.datawrangler.viewer.v0+json": {
       "columns": [
        {
         "name": "index",
         "rawType": "int64",
         "type": "integer"
        },
        {
         "name": "cut",
         "rawType": "object",
         "type": "string"
        },
        {
         "name": "color",
         "rawType": "object",
         "type": "string"
        },
        {
         "name": "clarity",
         "rawType": "object",
         "type": "string"
        },
        {
         "name": "carat",
         "rawType": "float64",
         "type": "float"
        },
        {
         "name": "depth",
         "rawType": "float64",
         "type": "float"
        },
        {
         "name": "table",
         "rawType": "float64",
         "type": "float"
        },
        {
         "name": "price",
         "rawType": "int64",
         "type": "integer"
        },
        {
         "name": "x (Premium)",
         "rawType": "float64",
         "type": "float"
        },
        {
         "name": "z (Very Good)",
         "rawType": "float64",
         "type": "float"
        },
        {
         "name": "y (Good)",
         "rawType": "float64",
         "type": "float"
        }
       ],
       "conversionMethod": "pd.DataFrame",
       "ref": "c19ea385-4a24-489f-a950-80787f19f967",
       "rows": [
        [
         "0",
         "Fair",
         "E",
         "VS2",
         "0.22",
         "65.1",
         "61.0",
         "337",
         "3.87",
         "2.49",
         "3.78"
        ],
        [
         "1",
         "Fair",
         "E",
         "SI2",
         "0.86",
         "55.1",
         "69.0",
         "2757",
         "6.45",
         "3.52",
         "6.33"
        ],
        [
         "2",
         "Fair",
         "F",
         "SI2",
         "0.96",
         "66.3",
         "62.0",
         "2759",
         "6.27",
         "4.07",
         "5.95"
        ],
        [
         "3",
         "Fair",
         "F",
         "VS2",
         "0.7",
         "64.5",
         "57.0",
         "2762",
         "5.57",
         "3.58",
         "5.53"
        ],
        [
         "4",
         "Fair",
         "F",
         "VS2",
         "0.7",
         "65.3",
         "55.0",
         "2762",
         "5.63",
         "3.66",
         "5.58"
        ],
        [
         "5",
         "Fair",
         "H",
         "SI2",
         "0.91",
         "64.4",
         "57.0",
         "2763",
         "6.11",
         "3.93",
         "6.09"
        ],
        [
         "6",
         "Fair",
         "H",
         "SI2",
         "0.91",
         "65.7",
         "60.0",
         "2763",
         "6.03",
         "3.95",
         "5.99"
        ],
        [
         "7",
         "Fair",
         "H",
         "SI2",
         "0.98",
         "67.9",
         "60.0",
         "2777",
         "6.05",
         "4.08",
         "5.97"
        ],
        [
         "8",
         "Fair",
         "G",
         "SI1",
         "0.84",
         "55.1",
         "67.0",
         "2782",
         "6.39",
         "3.47",
         "6.2"
        ],
        [
         "9",
         "Fair",
         "E",
         "I1",
         "1.01",
         "64.5",
         "58.0",
         "2788",
         "6.29",
         "4.03",
         "6.21"
        ],
        [
         "10",
         "Fair",
         "J",
         "SI2",
         "1.05",
         "65.8",
         "59.0",
         "2789",
         "6.41",
         "4.18",
         "6.27"
        ],
        [
         "11",
         "Fair",
         "G",
         "VVS1",
         "0.7",
         "58.8",
         "66.0",
         "2797",
         "5.81",
         "3.44",
         "5.9"
        ],
        [
         "12",
         "Fair",
         "E",
         "SI2",
         "1.01",
         "67.4",
         "60.0",
         "2797",
         "6.19",
         "4.13",
         "6.05"
        ],
        [
         "13",
         "Fair",
         "G",
         "VS1",
         "0.76",
         "59.0",
         "70.0",
         "2800",
         "5.89",
         "3.46",
         "5.8"
        ],
        [
         "14",
         "Fair",
         "I",
         "SI1",
         "0.9",
         "67.3",
         "59.0",
         "2804",
         "5.93",
         "3.96",
         "5.84"
        ],
        [
         "15",
         "Fair",
         "E",
         "VVS1",
         "0.57",
         "58.7",
         "66.0",
         "2805",
         "5.34",
         "3.16",
         "5.43"
        ],
        [
         "16",
         "Fair",
         "F",
         "VS2",
         "0.74",
         "61.1",
         "68.0",
         "2805",
         "5.82",
         "3.53",
         "5.75"
        ],
        [
         "17",
         "Fair",
         "G",
         "I1",
         "1.0",
         "66.4",
         "59.0",
         "2808",
         "6.16",
         "4.07",
         "6.09"
        ],
        [
         "18",
         "Fair",
         "F",
         "I1",
         "1.2",
         "64.6",
         "56.0",
         "2809",
         "6.73",
         "4.33",
         "6.66"
        ],
        [
         "19",
         "Fair",
         "J",
         "VS2",
         "1.0",
         "65.7",
         "59.0",
         "2811",
         "6.14",
         "4.01",
         "6.07"
        ],
        [
         "20",
         "Fair",
         "I",
         "SI2",
         "0.99",
         "68.1",
         "56.0",
         "2811",
         "6.21",
         "4.18",
         "6.06"
        ],
        [
         "21",
         "Fair",
         "J",
         "SI1",
         "0.99",
         "55.0",
         "61.0",
         "2812",
         "6.72",
         "3.68",
         "6.67"
        ],
        [
         "22",
         "Fair",
         "J",
         "VS2",
         "0.9",
         "65.0",
         "56.0",
         "2815",
         "6.08",
         "3.94",
         "6.04"
        ],
        [
         "23",
         "Fair",
         "F",
         "SI2",
         "0.95",
         "56.0",
         "60.0",
         "2815",
         "6.62",
         "3.68",
         "6.53"
        ],
        [
         "24",
         "Fair",
         "E",
         "SI2",
         "0.96",
         "53.1",
         "63.0",
         "2815",
         "6.73",
         "3.55",
         "6.65"
        ],
        [
         "25",
         "Fair",
         "H",
         "SI2",
         "1.0",
         "65.3",
         "62.0",
         "2818",
         "6.34",
         "4.08",
         "6.12"
        ],
        [
         "26",
         "Fair",
         "H",
         "SI2",
         "0.9",
         "65.8",
         "54.0",
         "2823",
         "6.05",
         "3.96",
         "5.98"
        ],
        [
         "27",
         "Fair",
         "H",
         "SI2",
         "0.91",
         "61.3",
         "67.0",
         "2825",
         "6.24",
         "3.81",
         "6.19"
        ],
        [
         "28",
         "Fair",
         "G",
         "SI2",
         "0.9",
         "65.3",
         "59.0",
         "2834",
         "6.07",
         "3.94",
         "6.0"
        ],
        [
         "29",
         "Fair",
         "F",
         "SI1",
         "0.82",
         "64.9",
         "58.0",
         "2838",
         "5.83",
         "3.77",
         "5.79"
        ],
        [
         "30",
         "Fair",
         "G",
         "SI1",
         "0.95",
         "66.7",
         "56.0",
         "2841",
         "6.16",
         "4.06",
         "6.03"
        ],
        [
         "31",
         "Fair",
         "H",
         "SI2",
         "1.01",
         "65.4",
         "59.0",
         "2846",
         "6.3",
         "4.11",
         "6.26"
        ],
        [
         "32",
         "Fair",
         "D",
         "SI2",
         "0.75",
         "64.6",
         "57.0",
         "2848",
         "5.74",
         "3.7",
         "5.72"
        ],
        [
         "33",
         "Fair",
         "J",
         "VS2",
         "0.91",
         "64.4",
         "62.0",
         "2854",
         "6.06",
         "3.89",
         "6.03"
        ],
        [
         "34",
         "Fair",
         "J",
         "VS2",
         "0.91",
         "65.4",
         "60.0",
         "2854",
         "6.04",
         "3.94",
         "6.0"
        ],
        [
         "35",
         "Fair",
         "H",
         "SI1",
         "0.91",
         "65.8",
         "58.0",
         "2854",
         "6.04",
         "3.96",
         "6.01"
        ],
        [
         "36",
         "Fair",
         "E",
         "SI2",
         "0.98",
         "53.3",
         "67.0",
         "2855",
         "6.82",
         "3.61",
         "6.74"
        ],
        [
         "37",
         "Fair",
         "I",
         "SI1",
         "1.02",
         "53.0",
         "63.0",
         "2856",
         "6.84",
         "3.66",
         "6.77"
        ],
        [
         "38",
         "Fair",
         "G",
         "SI2",
         "1.0",
         "67.8",
         "61.0",
         "2856",
         "5.96",
         "4.02",
         "5.9"
        ],
        [
         "39",
         "Fair",
         "I",
         "SI1",
         "1.0",
         "67.9",
         "62.0",
         "2856",
         "6.19",
         "4.15",
         "6.03"
        ],
        [
         "40",
         "Fair",
         "H",
         "SI2",
         "1.0",
         "66.1",
         "56.0",
         "2856",
         "6.21",
         "4.04",
         "5.97"
        ],
        [
         "41",
         "Fair",
         "G",
         "SI2",
         "0.9",
         "64.5",
         "56.0",
         "2858",
         "6.06",
         "3.89",
         "6.0"
        ],
        [
         "42",
         "Fair",
         "D",
         "VS2",
         "0.71",
         "56.9",
         "65.0",
         "2858",
         "5.89",
         "3.34",
         "5.84"
        ],
        [
         "43",
         "Fair",
         "F",
         "VS1",
         "0.75",
         "55.8",
         "70.0",
         "2859",
         "6.09",
         "3.37",
         "5.98"
        ],
        [
         "44",
         "Fair",
         "F",
         "IF",
         "0.62",
         "60.1",
         "61.0",
         "2861",
         "5.53",
         "3.33",
         "5.56"
        ],
        [
         "45",
         "Fair",
         "E",
         "SI2",
         "1.01",
         "67.6",
         "57.0",
         "2862",
         "6.21",
         "4.18",
         "6.11"
        ],
        [
         "46",
         "Fair",
         "F",
         "SI2",
         "0.96",
         "68.2",
         "61.0",
         "2867",
         "6.07",
         "4.1",
         "5.88"
        ],
        [
         "47",
         "Fair",
         "H",
         "SI1",
         "1.0",
         "65.5",
         "62.0",
         "2873",
         "6.14",
         "4.0",
         "6.07"
        ],
        [
         "48",
         "Fair",
         "I",
         "SI1",
         "0.9",
         "65.7",
         "58.0",
         "2873",
         "6.03",
         "3.95",
         "6.0"
        ],
        [
         "49",
         "Fair",
         "I",
         "SI1",
         "0.9",
         "65.3",
         "61.0",
         "2873",
         "5.98",
         "3.89",
         "5.94"
        ]
       ],
       "shape": {
        "columns": 10,
        "rows": 53940
       }
      },
      "text/html": [
       "<div>\n",
       "<style scoped>\n",
       "    .dataframe tbody tr th:only-of-type {\n",
       "        vertical-align: middle;\n",
       "    }\n",
       "\n",
       "    .dataframe tbody tr th {\n",
       "        vertical-align: top;\n",
       "    }\n",
       "\n",
       "    .dataframe thead th {\n",
       "        text-align: right;\n",
       "    }\n",
       "</style>\n",
       "<table border=\"1\" class=\"dataframe\">\n",
       "  <thead>\n",
       "    <tr style=\"text-align: right;\">\n",
       "      <th></th>\n",
       "      <th>cut</th>\n",
       "      <th>color</th>\n",
       "      <th>clarity</th>\n",
       "      <th>carat</th>\n",
       "      <th>depth</th>\n",
       "      <th>table</th>\n",
       "      <th>price</th>\n",
       "      <th>x (Premium)</th>\n",
       "      <th>z (Very Good)</th>\n",
       "      <th>y (Good)</th>\n",
       "    </tr>\n",
       "  </thead>\n",
       "  <tbody>\n",
       "    <tr>\n",
       "      <th>0</th>\n",
       "      <td>Fair</td>\n",
       "      <td>E</td>\n",
       "      <td>VS2</td>\n",
       "      <td>0.22</td>\n",
       "      <td>65.1</td>\n",
       "      <td>61.0</td>\n",
       "      <td>337</td>\n",
       "      <td>3.87</td>\n",
       "      <td>2.49</td>\n",
       "      <td>3.78</td>\n",
       "    </tr>\n",
       "    <tr>\n",
       "      <th>1</th>\n",
       "      <td>Fair</td>\n",
       "      <td>E</td>\n",
       "      <td>SI2</td>\n",
       "      <td>0.86</td>\n",
       "      <td>55.1</td>\n",
       "      <td>69.0</td>\n",
       "      <td>2757</td>\n",
       "      <td>6.45</td>\n",
       "      <td>3.52</td>\n",
       "      <td>6.33</td>\n",
       "    </tr>\n",
       "    <tr>\n",
       "      <th>2</th>\n",
       "      <td>Fair</td>\n",
       "      <td>F</td>\n",
       "      <td>SI2</td>\n",
       "      <td>0.96</td>\n",
       "      <td>66.3</td>\n",
       "      <td>62.0</td>\n",
       "      <td>2759</td>\n",
       "      <td>6.27</td>\n",
       "      <td>4.07</td>\n",
       "      <td>5.95</td>\n",
       "    </tr>\n",
       "    <tr>\n",
       "      <th>3</th>\n",
       "      <td>Fair</td>\n",
       "      <td>F</td>\n",
       "      <td>VS2</td>\n",
       "      <td>0.70</td>\n",
       "      <td>64.5</td>\n",
       "      <td>57.0</td>\n",
       "      <td>2762</td>\n",
       "      <td>5.57</td>\n",
       "      <td>3.58</td>\n",
       "      <td>5.53</td>\n",
       "    </tr>\n",
       "    <tr>\n",
       "      <th>4</th>\n",
       "      <td>Fair</td>\n",
       "      <td>F</td>\n",
       "      <td>VS2</td>\n",
       "      <td>0.70</td>\n",
       "      <td>65.3</td>\n",
       "      <td>55.0</td>\n",
       "      <td>2762</td>\n",
       "      <td>5.63</td>\n",
       "      <td>3.66</td>\n",
       "      <td>5.58</td>\n",
       "    </tr>\n",
       "    <tr>\n",
       "      <th>...</th>\n",
       "      <td>...</td>\n",
       "      <td>...</td>\n",
       "      <td>...</td>\n",
       "      <td>...</td>\n",
       "      <td>...</td>\n",
       "      <td>...</td>\n",
       "      <td>...</td>\n",
       "      <td>...</td>\n",
       "      <td>...</td>\n",
       "      <td>...</td>\n",
       "    </tr>\n",
       "    <tr>\n",
       "      <th>53935</th>\n",
       "      <td>Very Good</td>\n",
       "      <td>E</td>\n",
       "      <td>VS2</td>\n",
       "      <td>0.70</td>\n",
       "      <td>62.8</td>\n",
       "      <td>60.0</td>\n",
       "      <td>2755</td>\n",
       "      <td>5.59</td>\n",
       "      <td>3.53</td>\n",
       "      <td>5.65</td>\n",
       "    </tr>\n",
       "    <tr>\n",
       "      <th>53936</th>\n",
       "      <td>Very Good</td>\n",
       "      <td>D</td>\n",
       "      <td>VS1</td>\n",
       "      <td>0.70</td>\n",
       "      <td>63.1</td>\n",
       "      <td>59.0</td>\n",
       "      <td>2755</td>\n",
       "      <td>5.67</td>\n",
       "      <td>3.55</td>\n",
       "      <td>5.58</td>\n",
       "    </tr>\n",
       "    <tr>\n",
       "      <th>53937</th>\n",
       "      <td>Very Good</td>\n",
       "      <td>E</td>\n",
       "      <td>VS2</td>\n",
       "      <td>0.70</td>\n",
       "      <td>60.5</td>\n",
       "      <td>59.0</td>\n",
       "      <td>2757</td>\n",
       "      <td>5.71</td>\n",
       "      <td>3.47</td>\n",
       "      <td>5.76</td>\n",
       "    </tr>\n",
       "    <tr>\n",
       "      <th>53938</th>\n",
       "      <td>Very Good</td>\n",
       "      <td>E</td>\n",
       "      <td>VS2</td>\n",
       "      <td>0.70</td>\n",
       "      <td>61.2</td>\n",
       "      <td>59.0</td>\n",
       "      <td>2757</td>\n",
       "      <td>5.69</td>\n",
       "      <td>3.49</td>\n",
       "      <td>5.72</td>\n",
       "    </tr>\n",
       "    <tr>\n",
       "      <th>53939</th>\n",
       "      <td>Very Good</td>\n",
       "      <td>D</td>\n",
       "      <td>SI1</td>\n",
       "      <td>0.70</td>\n",
       "      <td>62.8</td>\n",
       "      <td>60.0</td>\n",
       "      <td>2757</td>\n",
       "      <td>5.66</td>\n",
       "      <td>3.56</td>\n",
       "      <td>5.68</td>\n",
       "    </tr>\n",
       "  </tbody>\n",
       "</table>\n",
       "<p>53940 rows × 10 columns</p>\n",
       "</div>"
      ],
      "text/plain": [
       "             cut color clarity  carat  depth  table  price  x (Premium)  \\\n",
       "0           Fair     E     VS2   0.22   65.1   61.0    337         3.87   \n",
       "1           Fair     E     SI2   0.86   55.1   69.0   2757         6.45   \n",
       "2           Fair     F     SI2   0.96   66.3   62.0   2759         6.27   \n",
       "3           Fair     F     VS2   0.70   64.5   57.0   2762         5.57   \n",
       "4           Fair     F     VS2   0.70   65.3   55.0   2762         5.63   \n",
       "...          ...   ...     ...    ...    ...    ...    ...          ...   \n",
       "53935  Very Good     E     VS2   0.70   62.8   60.0   2755         5.59   \n",
       "53936  Very Good     D     VS1   0.70   63.1   59.0   2755         5.67   \n",
       "53937  Very Good     E     VS2   0.70   60.5   59.0   2757         5.71   \n",
       "53938  Very Good     E     VS2   0.70   61.2   59.0   2757         5.69   \n",
       "53939  Very Good     D     SI1   0.70   62.8   60.0   2757         5.66   \n",
       "\n",
       "       z (Very Good)  y (Good)  \n",
       "0               2.49      3.78  \n",
       "1               3.52      6.33  \n",
       "2               4.07      5.95  \n",
       "3               3.58      5.53  \n",
       "4               3.66      5.58  \n",
       "...              ...       ...  \n",
       "53935           3.53      5.65  \n",
       "53936           3.55      5.58  \n",
       "53937           3.47      5.76  \n",
       "53938           3.49      5.72  \n",
       "53939           3.56      5.68  \n",
       "\n",
       "[53940 rows x 10 columns]"
      ]
     },
     "execution_count": 22,
     "metadata": {},
     "output_type": "execute_result"
    }
   ],
   "source": [
    "# Importing the dataset\n",
    "df = pd.read_csv('data.csv')\n",
    "df"
   ]
  },
  {
   "cell_type": "markdown",
   "metadata": {},
   "source": [
    "The dataset contains the following columns:\n"
   ]
  },
  {
   "cell_type": "code",
   "execution_count": 23,
   "metadata": {},
   "outputs": [
    {
     "name": "stdout",
     "output_type": "stream",
     "text": [
      "<class 'pandas.core.frame.DataFrame'>\n",
      "RangeIndex: 53940 entries, 0 to 53939\n",
      "Data columns (total 10 columns):\n",
      " #   Column         Non-Null Count  Dtype  \n",
      "---  ------         --------------  -----  \n",
      " 0   cut            53940 non-null  object \n",
      " 1   color          53940 non-null  object \n",
      " 2   clarity        53940 non-null  object \n",
      " 3   carat          53940 non-null  float64\n",
      " 4   depth          53940 non-null  float64\n",
      " 5   table          53940 non-null  float64\n",
      " 6   price          53940 non-null  int64  \n",
      " 7   x (Premium)    53940 non-null  float64\n",
      " 8   z (Very Good)  53940 non-null  float64\n",
      " 9   y (Good)       53940 non-null  float64\n",
      "dtypes: float64(6), int64(1), object(3)\n",
      "memory usage: 4.1+ MB\n"
     ]
    }
   ],
   "source": [
    "#  check for the data types of the columns\n",
    "df.info() "
   ]
  },
  {
   "cell_type": "markdown",
   "metadata": {},
   "source": [
    "## 🔍 Data Cleaning and Formatting\n",
    "___"
   ]
  },
  {
   "cell_type": "markdown",
   "metadata": {},
   "source": [
    "It is important to check the data frame shape before starting the data processing. This is important to know the number of rows and columns in the dataset."
   ]
  },
  {
   "cell_type": "code",
   "execution_count": 24,
   "metadata": {},
   "outputs": [
    {
     "data": {
      "text/plain": [
       "(53940, 10)"
      ]
     },
     "execution_count": 24,
     "metadata": {},
     "output_type": "execute_result"
    }
   ],
   "source": [
    "# check the dataframe shape\n",
    "df.shape"
   ]
  },
  {
   "cell_type": "markdown",
   "metadata": {},
   "source": [
    "From the output, we can see that the dataset contains 10 columns and 53,940 rows. This means that there are  more than 50,000 diamonds in the dataset, each with 10 attributes. This is noted that the dataset is large enough to build a robust machine learning model.\n",
    "\n",
    "Having view the data, it is important to rename the columns to make them more descriptive and easier to understand. This will help us to identify the attributes of the diamonds more easily."
   ]
  },
  {
   "cell_type": "code",
   "execution_count": 26,
   "metadata": {},
   "outputs": [],
   "source": [
    "# rename the columns\n",
    "df.rename(columns={\n",
    "    'x (Premium)':'x_factor',\n",
    "    'y (Good)':'y_factor',\n",
    "    'z (Very Good)':'z_factor'}, inplace=True)"
   ]
  },
  {
   "cell_type": "code",
   "execution_count": 27,
   "metadata": {},
   "outputs": [
    {
     "data": {
      "text/plain": [
       "['cut',\n",
       " 'color',\n",
       " 'clarity',\n",
       " 'carat',\n",
       " 'depth',\n",
       " 'table',\n",
       " 'price',\n",
       " 'x_factor',\n",
       " 'z_factor',\n",
       " 'y_factor']"
      ]
     },
     "execution_count": 27,
     "metadata": {},
     "output_type": "execute_result"
    }
   ],
   "source": [
    "# check the convert the data types of the columns\n",
    "df.columns.to_list()"
   ]
  },
  {
   "cell_type": "markdown",
   "metadata": {},
   "source": [
    "After the renaming, next step is to check for missing values in the dataset. Missing values can affect the performance of machine learning models, so it is important to handle them appropriately."
   ]
  },
  {
   "cell_type": "code",
   "execution_count": 29,
   "metadata": {},
   "outputs": [
    {
     "data": {
      "text/plain": [
       "cut         0.0\n",
       "color       0.0\n",
       "clarity     0.0\n",
       "carat       0.0\n",
       "depth       0.0\n",
       "table       0.0\n",
       "price       0.0\n",
       "x_factor    0.0\n",
       "z_factor    0.0\n",
       "y_factor    0.0\n",
       "dtype: float64"
      ]
     },
     "execution_count": 29,
     "metadata": {},
     "output_type": "execute_result"
    }
   ],
   "source": [
    "# check for the missing values\n",
    "df.isnull().sum() / data.shape[0] * 100"
   ]
  },
  {
   "cell_type": "markdown",
   "metadata": {},
   "source": [
    "The dataset contains no missing values, which is good news as we do not need to impute or remove any data points. This will make our data processing tasks easier and more straightforward.  \n",
    "\n",
    "After the missing values check, it is important to subcategory the data into numerical and categorical columns. This will help us to identify the data types of each attribute and perform appropriate data processing tasks."
   ]
  },
  {
   "cell_type": "code",
   "execution_count": 30,
   "metadata": {},
   "outputs": [],
   "source": [
    "# separate the numerical and categorical columns\n",
    "numerical= df.select_dtypes(include=['number']).columns\n",
    "categorical= df.select_dtypes(include=['object']).columns"
   ]
  },
  {
   "cell_type": "code",
   "execution_count": 31,
   "metadata": {},
   "outputs": [
    {
     "data": {
      "text/plain": [
       "['carat', 'depth', 'table', 'price', 'x_factor', 'z_factor', 'y_factor']"
      ]
     },
     "execution_count": 31,
     "metadata": {},
     "output_type": "execute_result"
    }
   ],
   "source": [
    "# check the numerical columns\n",
    "numerical.to_list()"
   ]
  },
  {
   "cell_type": "code",
   "execution_count": 32,
   "metadata": {},
   "outputs": [
    {
     "data": {
      "text/plain": [
       "['cut', 'color', 'clarity']"
      ]
     },
     "execution_count": 32,
     "metadata": {},
     "output_type": "execute_result"
    }
   ],
   "source": [
    "# check the categorical columns\n",
    "categorical.to_list()"
   ]
  },
  {
   "cell_type": "markdown",
   "metadata": {},
   "source": [
    "It is important to check Check Cardinality (Number of Unique Categories) of Categorical Columns. This will help us to identify the number of unique categories in each categorical column. This information will be useful for encoding categorical variables later in the project."
   ]
  },
  {
   "cell_type": "code",
   "execution_count": 34,
   "metadata": {},
   "outputs": [
    {
     "name": "stdout",
     "output_type": "stream",
     "text": [
      "Number of unique values in cut column:  5\n",
      "Number of unique values in color column:  7\n",
      "Number of unique values in clarity column:  8\n"
     ]
    }
   ],
   "source": [
    "# Loop through categorical columns\n",
    "for col in categorical:\n",
    "  \n",
    "  # Print the number of unique values\n",
    "  print(f\"Number of unique values in {col} column: \", df[col].nunique())"
   ]
  },
  {
   "cell_type": "markdown",
   "metadata": {},
   "source": [
    "# 📚 3. EXPLORATORY DATA ANALYSIS\n",
    "\n",
    "<div style=\"font-family: Avenir, sans-serif; font-size: 16px; line-height: 1.6; color: white; background-color: #333; padding: 10px; border-radius: 5px;\">\n",
    "This section will focus on data visualization and statistical analysis to understand the distribution of attributes of categorical and numerical and relationships between them. We will use plots such as histograms, scatter plots, and correlation matrices to identify patterns and trends in the data.\n",
    "\n",
    "</div>"
   ]
  },
  {
   "cell_type": "markdown",
   "metadata": {},
   "source": [
    "## 🔍 Data Visualization: Categorical Attributes\n",
    "___"
   ]
  },
  {
   "cell_type": "markdown",
   "metadata": {},
   "source": [
    "The categorical attributes in the dataset are 'cut', 'color', and 'clarity'. We explore deeply the distribution of these attributes using bar plots to understand the frequency of each category. It is important to have a background knowledge of the attributes to understand the distribution better.\n",
    "\n",
    "**Understanding the Feature Context**\n",
    "\n",
    "- **Diamond Cut**: The cut of a diamond refers to how well the diamond has been shaped and faceted. It is typically graded in the following order of quality: Fair, Good, Very Good, Premium, and Ideal, with Ideal representing the highest quality of cut. The quality of the cut can significantly impact the diamond's brilliance and overall appearance. We have <font color = red> *(Fair < Good < Very Good < Premium < Ideal)*</font>, with Ideal being the highest quality of cut.\n",
    "\n",
    "- **Diamond Color**: The color of a diamond is graded on a scale from D to J, with D being the most colorless and J having a noticeable color tint. The color grade can significantly impact the value of a diamond. We have <font color = red> *(D = best, J = least desirable)*</font>.\n",
    "\n",
    "- **Diamond Clarity**: The clarity of a diamond measures the presence of internal inclusions and external blemishes. The clarity scale ranges from I1 (included and least desirable) to IF (internally flawless and most desirable), with intermediate grades such as SI2, SI1, VS2, VS1, VVS2, and VVS1 representing varying levels of flawlessness. We have <font color = red> *(I1 < SI2 < SI1 < VS2 < VS1 < VVS2 < VVS1 < IF)*</font>.\n",
    "\n",
    "\n",
    "<div align=\"center\">\n",
    "\n",
    "| Feature  | Type        | Ordered? | Description (General Interpretation)                    |\n",
    "|----------|-------------|----------|----------------------------------------------------------|\n",
    "| `cut`    | Categorical | ✅ Yes   | Ordinal - from lowest (**Fair**) to best (**Ideal**)     |\n",
    "| `color`  | Categorical | ✅ Yes   | Ordinal - from best (**D**) to worst (**J**)             |\n",
    "| `clarity`| Categorical | ✅ Yes   | Ordinal - from worst (**I1**) to best (**IF**)           |\n",
    "\n",
    "</div>\n",
    "\n",
    "\n",
    "To have a good view of each of these quality, each of those attributes will be plotted in a bar plot to understand the distribution of each category."
   ]
  },
  {
   "cell_type": "markdown",
   "metadata": {},
   "source": [
    "Check the Frequency Distribution (How Values Are Distributed)"
   ]
  },
  {
   "cell_type": "code",
   "execution_count": 96,
   "metadata": {},
   "outputs": [
    {
     "data": {
      "text/plain": [
       "cut\n",
       "Ideal        21551\n",
       "Premium      13791\n",
       "Very Good    12082\n",
       "Good          4906\n",
       "Fair          1610\n",
       "Name: count, dtype: int64"
      ]
     },
     "execution_count": 96,
     "metadata": {},
     "output_type": "execute_result"
    }
   ],
   "source": [
    "# check the unique values in the categorical columns\n",
    "df['cut'].value_counts()"
   ]
  },
  {
   "cell_type": "markdown",
   "metadata": {},
   "source": [
    "🔎 Observation:    \n",
    "- Most diamonds are Ideal, followed by Premium and Very Good.\n",
    "- Very few are Fair, suggesting lower market preference."
   ]
  },
  {
   "cell_type": "code",
   "execution_count": 97,
   "metadata": {},
   "outputs": [
    {
     "data": {
      "text/plain": [
       "color\n",
       "G    11292\n",
       "E     9797\n",
       "F     9542\n",
       "H     8304\n",
       "D     6775\n",
       "I     5422\n",
       "J     2808\n",
       "Name: count, dtype: int64"
      ]
     },
     "execution_count": 97,
     "metadata": {},
     "output_type": "execute_result"
    }
   ],
   "source": [
    "# check the unique values in the categorical columns\n",
    "df['color'].value_counts()"
   ]
  },
  {
   "cell_type": "markdown",
   "metadata": {},
   "source": [
    "🔎 Observation:   \n",
    "- Color G is the most common, followed by E and F.\n",
    "- Colors D (best) and J (worst) are less common."
   ]
  },
  {
   "cell_type": "code",
   "execution_count": 98,
   "metadata": {},
   "outputs": [
    {
     "data": {
      "text/plain": [
       "clarity\n",
       "SI1     13065\n",
       "VS2     12258\n",
       "SI2      9194\n",
       "VS1      8171\n",
       "VVS2     5066\n",
       "VVS1     3655\n",
       "IF       1790\n",
       "I1        741\n",
       "Name: count, dtype: int64"
      ]
     },
     "execution_count": 98,
     "metadata": {},
     "output_type": "execute_result"
    }
   ],
   "source": [
    "# check the unique values in the categorical columns\n",
    "df['clarity'].value_counts()"
   ]
  },
  {
   "cell_type": "markdown",
   "metadata": {},
   "source": [
    "🔎 Observation:   \n",
    "- Most diamonds have clarity grades around SI1, VS2, and SI2.\n",
    "- Fewer diamonds have extreme grades like I1 (worst) or IF (best)."
   ]
  },
  {
   "cell_type": "markdown",
   "metadata": {},
   "source": [
    "Next step is to visualize the distribution of categorical attributes to understand the distribution of each category. This will help us to identify the most common and least common categories in each attribute."
   ]
  },
  {
   "cell_type": "code",
   "execution_count": 99,
   "metadata": {},
   "outputs": [
    {
     "data": {
      "image/png": "[encoded data removed]",
      "text/plain": [
       "<Figure size 1500x600 with 1 Axes>"
      ]
     },
     "metadata": {},
     "output_type": "display_data"
    },
    {
     "data": {
      "image/png": "[encoded data removed]",
      "text/plain": [
       "<Figure size 1500x600 with 1 Axes>"
      ]
     },
     "metadata": {},
     "output_type": "display_data"
    },
    {
     "data": {
      "image/png": "[encoded data removed]",
      "text/plain": [
       "<Figure size 1500x600 with 1 Axes>"
      ]
     },
     "metadata": {},
     "output_type": "display_data"
    }
   ],
   "source": [
    "# visualize the distribution of the categorical columns\n",
    "for col in categorical:\n",
    "    fig, ax = plt.subplots(figsize=(15, 6))\n",
    "    sns.countplot(x=col, data=df, color='skyblue')\n",
    "    plt.title(f'Distribution of {col}')\n",
    "    plt.show()"
   ]
  },
  {
   "cell_type": "markdown",
   "metadata": {},
   "source": [
    "<div style=\"font-family: Avenir, sans-serif; font-size: 16px; line-height: 1.6; color: white; background-color: #333; padding: 10px; border-radius: 5px;\">\n",
    "\n",
    "🖐️ **Insight:**   \n",
    "- The distribution of the categorical columns is not balanced. This may affect the performance of the model. Therefore, we may need to consider encoding these categorical columns appropriately before training the model.\n",
    "</div>"
   ]
  },
  {
   "cell_type": "markdown",
   "metadata": {},
   "source": [
    "## 🔍 Understanding the Categroical Attributes Relationship\n",
    "____"
   ]
  },
  {
   "cell_type": "markdown",
   "metadata": {},
   "source": [
    "Looking at the distribution of each categorical attribute alone did not convey the full picture. To understand the relationships between these attributes and the target variable (price), we need to explore how they interact with each other. This can be achieved by grouping the data based on these attributes calculating summary statistics such as the mean price for each group, and uisng heatmaps to visualize the relationships."
   ]
  },
  {
   "cell_type": "code",
   "execution_count": 104,
   "metadata": {},
   "outputs": [],
   "source": [
    "# Relationship between cut and clarity\n",
    "cut_vs_clarity = df.groupby(['cut', 'clarity']).size().unstack().fillna(0)\n",
    "\n",
    "# Relationship between cut and color\n",
    "cut_vs_color = df.groupby(['cut', 'color']).size().unstack().fillna(0)\n",
    "\n",
    "# Relationship between clarity and color\n",
    "clarity_vs_color = df.groupby(['clarity', 'color']).size().unstack().fillna(0)\n"
   ]
  },
  {
   "cell_type": "markdown",
   "metadata": {},
   "source": [
    "#### **Understanding the Feature Context**: Cut vs Clarity"
   ]
  },
  {
   "cell_type": "markdown",
   "metadata": {},
   "source": [
    "Cut and clarity both have a quality ranking system, with cut ranging from Fair to Ideal and clarity ranging from I1 to IF. We can explore how these two attributes interact with each other to understand their combined impact on diamond prices."
   ]
  },
  {
   "cell_type": "code",
   "execution_count": 106,
   "metadata": {},
   "outputs": [
    {
     "data": {
      "image/png": "[encoded data removed]",
      "text/plain": [
       "<Figure size 1500x600 with 2 Axes>"
      ]
     },
     "metadata": {},
     "output_type": "display_data"
    }
   ],
   "source": [
    "# Visualize the relationship between cut and clarity\n",
    "plt.figure(figsize=(15, 6))\n",
    "sns.heatmap(cut_vs_clarity, annot=True, fmt=\".0f\", cmap=\"YlGnBu\")\n",
    "plt.title(\"Relationship between Cut and Clarity\")\n",
    "plt.ylabel(\"Cut\")\n",
    "plt.xlabel(\"Clarity\")\n",
    "plt.show()\n"
   ]
  },
  {
   "cell_type": "markdown",
   "metadata": {},
   "source": [
    "<div style=\"font-family: Avenir, sans-serif; font-size: 16px; line-height: 1.6; color: white; background-color: #333; padding: 10px; border-radius: 5px;\">\n",
    "\n",
    "🖐️ **Insight:**   \n",
    "\n",
    "- The heatmap reveals a strong relationship between cut and clarity, with Ideal cuts often associated with mid-range clarity levels.\n",
    "- This suggests that the quality of a diamond's cut may influence the clarity grade assigned to it, potentially affecting its market value.\n",
    "\n",
    "\n",
    "</div>"
   ]
  },
  {
   "cell_type": "markdown",
   "metadata": {},
   "source": [
    "#### **Understanding the Feature Context**: Cut vs Color"
   ]
  },
  {
   "cell_type": "code",
   "execution_count": 107,
   "metadata": {},
   "outputs": [
    {
     "data": {
      "image/png": "[encoded data removed]",
      "text/plain": [
       "<Figure size 1500x600 with 2 Axes>"
      ]
     },
     "metadata": {},
     "output_type": "display_data"
    }
   ],
   "source": [
    "# Heatmap example\n",
    "plt.figure(figsize=(15, 6))\n",
    "sns.heatmap(cut_vs_color, annot=True, fmt=\".0f\", cmap=\"YlGnBu\")\n",
    "plt.title(\"Relationship between Cut and Color\")\n",
    "plt.ylabel(\"Cut\")\n",
    "plt.xlabel(\"Color\")\n",
    "plt.show()"
   ]
  },
  {
   "cell_type": "markdown",
   "metadata": {},
   "source": [
    "<div style=\"font-family: Avenir, sans-serif; font-size: 16px; line-height: 1.6; color: white; background-color: #333; padding: 10px; border-radius: 5px;\">\n",
    "\n",
    "🖐️ **Insight:**   \n",
    "\n",
    "- The heatmap shows a weak relationship between cut and color, with no clear pattern or correlation between the two attributes.\n",
    "- This suggests that the quality of a diamond's cut may not be directly related to its color grade, indicating that these attributes may be independent of each other.\n",
    "\n",
    "\n",
    "</div>"
   ]
  },
  {
   "cell_type": "markdown",
   "metadata": {},
   "source": [
    "#### **Understanding the Feature Context**: Clarity vs Color"
   ]
  },
  {
   "cell_type": "code",
   "execution_count": 108,
   "metadata": {},
   "outputs": [
    {
     "data": {
      "image/png": "[encoded data removed]",
      "text/plain": [
       "<Figure size 1500x600 with 2 Axes>"
      ]
     },
     "metadata": {},
     "output_type": "display_data"
    }
   ],
   "source": [
    "# Heatmap example\n",
    "plt.figure(figsize=(15, 6))\n",
    "sns.heatmap(clarity_vs_color, annot=True, fmt=\".0f\", cmap=\"YlGnBu\")\n",
    "plt.title(\"Relationship between Clarity and Color\")\n",
    "plt.ylabel(\"Clarity\")\n",
    "plt.xlabel(\"Color\")\n",
    "plt.show()"
   ]
  },
  {
   "cell_type": "markdown",
   "metadata": {},
   "source": [
    "<div style=\"font-family: Avenir, sans-serif; font-size: 16px; line-height: 1.6; color: white; background-color: #333; padding: 10px; border-radius: 5px;\">\n",
    "\n",
    "🖐️ **Insight:**   \n",
    "\n",
    "- The heatmap reveals that better cuts appear across the full spectrum of color grades, showing no strong association between cut quality and color.\n",
    "- This suggests that a diamond's cut and color may be priced and evaluated independently, with cut quality not necessarily influencing or depending on color grade.\n",
    "\n",
    "</div>"
   ]
  },
  {
   "cell_type": "markdown",
   "metadata": {},
   "source": [
    "## 🔍 Exploring all the categorical attributes together \n",
    "____"
   ]
  },
  {
   "cell_type": "markdown",
   "metadata": {},
   "source": [
    "By combining all the categorical attributes together, we can gain a more comprehensive understanding of how these attributes interact and influence diamond prices. This can be achieved by grouping the data based on all three attributes and viewing the 3D relationships between them."
   ]
  },
  {
   "cell_type": "code",
   "execution_count": 100,
   "metadata": {},
   "outputs": [
    {
     "data": {
      "application/vnd.microsoft.datawrangler.viewer.v0+json": {
       "columns": [
        {
         "name": "index",
         "rawType": "int64",
         "type": "integer"
        },
        {
         "name": "cut",
         "rawType": "category",
         "type": "unknown"
        },
        {
         "name": "color",
         "rawType": "category",
         "type": "unknown"
        },
        {
         "name": "clarity",
         "rawType": "category",
         "type": "unknown"
        },
        {
         "name": "count",
         "rawType": "int64",
         "type": "integer"
        }
       ],
       "conversionMethod": "pd.DataFrame",
       "ref": "b08ba068-d011-468a-bea8-beddbf003e3e",
       "rows": [
        [
         "0",
         "Ideal",
         "D",
         "IF",
         "28"
        ],
        [
         "1",
         "Ideal",
         "D",
         "VVS1",
         "144"
        ],
        [
         "2",
         "Ideal",
         "D",
         "VVS2",
         "284"
        ],
        [
         "3",
         "Ideal",
         "D",
         "VS1",
         "351"
        ],
        [
         "4",
         "Ideal",
         "D",
         "VS2",
         "920"
        ],
        [
         "5",
         "Ideal",
         "D",
         "SI1",
         "738"
        ],
        [
         "6",
         "Ideal",
         "D",
         "SI2",
         "356"
        ],
        [
         "7",
         "Ideal",
         "D",
         "I1",
         "13"
        ],
        [
         "8",
         "Ideal",
         "E",
         "IF",
         "79"
        ],
        [
         "9",
         "Ideal",
         "E",
         "VVS1",
         "335"
        ],
        [
         "10",
         "Ideal",
         "E",
         "VVS2",
         "507"
        ],
        [
         "11",
         "Ideal",
         "E",
         "VS1",
         "593"
        ],
        [
         "12",
         "Ideal",
         "E",
         "VS2",
         "1136"
        ],
        [
         "13",
         "Ideal",
         "E",
         "SI1",
         "766"
        ],
        [
         "14",
         "Ideal",
         "E",
         "SI2",
         "469"
        ],
        [
         "15",
         "Ideal",
         "E",
         "I1",
         "18"
        ],
        [
         "16",
         "Ideal",
         "F",
         "IF",
         "268"
        ],
        [
         "17",
         "Ideal",
         "F",
         "VVS1",
         "440"
        ],
        [
         "18",
         "Ideal",
         "F",
         "VVS2",
         "520"
        ],
        [
         "19",
         "Ideal",
         "F",
         "VS1",
         "616"
        ],
        [
         "20",
         "Ideal",
         "F",
         "VS2",
         "879"
        ],
        [
         "21",
         "Ideal",
         "F",
         "SI1",
         "608"
        ],
        [
         "22",
         "Ideal",
         "F",
         "SI2",
         "453"
        ],
        [
         "23",
         "Ideal",
         "F",
         "I1",
         "42"
        ],
        [
         "24",
         "Ideal",
         "G",
         "IF",
         "491"
        ],
        [
         "25",
         "Ideal",
         "G",
         "VVS1",
         "594"
        ],
        [
         "26",
         "Ideal",
         "G",
         "VVS2",
         "774"
        ],
        [
         "27",
         "Ideal",
         "G",
         "VS1",
         "953"
        ],
        [
         "28",
         "Ideal",
         "G",
         "VS2",
         "910"
        ],
        [
         "29",
         "Ideal",
         "G",
         "SI1",
         "660"
        ],
        [
         "30",
         "Ideal",
         "G",
         "SI2",
         "486"
        ],
        [
         "31",
         "Ideal",
         "G",
         "I1",
         "16"
        ],
        [
         "32",
         "Ideal",
         "H",
         "IF",
         "226"
        ],
        [
         "33",
         "Ideal",
         "H",
         "VVS1",
         "326"
        ],
        [
         "34",
         "Ideal",
         "H",
         "VVS2",
         "289"
        ],
        [
         "35",
         "Ideal",
         "H",
         "VS1",
         "467"
        ],
        [
         "36",
         "Ideal",
         "H",
         "VS2",
         "556"
        ],
        [
         "37",
         "Ideal",
         "H",
         "SI1",
         "763"
        ],
        [
         "38",
         "Ideal",
         "H",
         "SI2",
         "450"
        ],
        [
         "39",
         "Ideal",
         "H",
         "I1",
         "38"
        ],
        [
         "40",
         "Ideal",
         "I",
         "IF",
         "95"
        ],
        [
         "41",
         "Ideal",
         "I",
         "VVS1",
         "179"
        ],
        [
         "42",
         "Ideal",
         "I",
         "VVS2",
         "178"
        ],
        [
         "43",
         "Ideal",
         "I",
         "VS1",
         "408"
        ],
        [
         "44",
         "Ideal",
         "I",
         "VS2",
         "438"
        ],
        [
         "45",
         "Ideal",
         "I",
         "SI1",
         "504"
        ],
        [
         "46",
         "Ideal",
         "I",
         "SI2",
         "274"
        ],
        [
         "47",
         "Ideal",
         "I",
         "I1",
         "17"
        ],
        [
         "48",
         "Ideal",
         "J",
         "IF",
         "25"
        ],
        [
         "49",
         "Ideal",
         "J",
         "VVS1",
         "29"
        ]
       ],
       "shape": {
        "columns": 4,
        "rows": 276
       }
      },
      "text/html": [
       "<div>\n",
       "<style scoped>\n",
       "    .dataframe tbody tr th:only-of-type {\n",
       "        vertical-align: middle;\n",
       "    }\n",
       "\n",
       "    .dataframe tbody tr th {\n",
       "        vertical-align: top;\n",
       "    }\n",
       "\n",
       "    .dataframe thead th {\n",
       "        text-align: right;\n",
       "    }\n",
       "</style>\n",
       "<table border=\"1\" class=\"dataframe\">\n",
       "  <thead>\n",
       "    <tr style=\"text-align: right;\">\n",
       "      <th></th>\n",
       "      <th>cut</th>\n",
       "      <th>color</th>\n",
       "      <th>clarity</th>\n",
       "      <th>count</th>\n",
       "    </tr>\n",
       "  </thead>\n",
       "  <tbody>\n",
       "    <tr>\n",
       "      <th>0</th>\n",
       "      <td>Ideal</td>\n",
       "      <td>D</td>\n",
       "      <td>IF</td>\n",
       "      <td>28</td>\n",
       "    </tr>\n",
       "    <tr>\n",
       "      <th>1</th>\n",
       "      <td>Ideal</td>\n",
       "      <td>D</td>\n",
       "      <td>VVS1</td>\n",
       "      <td>144</td>\n",
       "    </tr>\n",
       "    <tr>\n",
       "      <th>2</th>\n",
       "      <td>Ideal</td>\n",
       "      <td>D</td>\n",
       "      <td>VVS2</td>\n",
       "      <td>284</td>\n",
       "    </tr>\n",
       "    <tr>\n",
       "      <th>3</th>\n",
       "      <td>Ideal</td>\n",
       "      <td>D</td>\n",
       "      <td>VS1</td>\n",
       "      <td>351</td>\n",
       "    </tr>\n",
       "    <tr>\n",
       "      <th>4</th>\n",
       "      <td>Ideal</td>\n",
       "      <td>D</td>\n",
       "      <td>VS2</td>\n",
       "      <td>920</td>\n",
       "    </tr>\n",
       "    <tr>\n",
       "      <th>...</th>\n",
       "      <td>...</td>\n",
       "      <td>...</td>\n",
       "      <td>...</td>\n",
       "      <td>...</td>\n",
       "    </tr>\n",
       "    <tr>\n",
       "      <th>271</th>\n",
       "      <td>Fair</td>\n",
       "      <td>J</td>\n",
       "      <td>VS1</td>\n",
       "      <td>16</td>\n",
       "    </tr>\n",
       "    <tr>\n",
       "      <th>272</th>\n",
       "      <td>Fair</td>\n",
       "      <td>J</td>\n",
       "      <td>VS2</td>\n",
       "      <td>23</td>\n",
       "    </tr>\n",
       "    <tr>\n",
       "      <th>273</th>\n",
       "      <td>Fair</td>\n",
       "      <td>J</td>\n",
       "      <td>SI1</td>\n",
       "      <td>28</td>\n",
       "    </tr>\n",
       "    <tr>\n",
       "      <th>274</th>\n",
       "      <td>Fair</td>\n",
       "      <td>J</td>\n",
       "      <td>SI2</td>\n",
       "      <td>27</td>\n",
       "    </tr>\n",
       "    <tr>\n",
       "      <th>275</th>\n",
       "      <td>Fair</td>\n",
       "      <td>J</td>\n",
       "      <td>I1</td>\n",
       "      <td>23</td>\n",
       "    </tr>\n",
       "  </tbody>\n",
       "</table>\n",
       "<p>276 rows × 4 columns</p>\n",
       "</div>"
      ],
      "text/plain": [
       "       cut color clarity  count\n",
       "0    Ideal     D      IF     28\n",
       "1    Ideal     D    VVS1    144\n",
       "2    Ideal     D    VVS2    284\n",
       "3    Ideal     D     VS1    351\n",
       "4    Ideal     D     VS2    920\n",
       "..     ...   ...     ...    ...\n",
       "271   Fair     J     VS1     16\n",
       "272   Fair     J     VS2     23\n",
       "273   Fair     J     SI1     28\n",
       "274   Fair     J     SI2     27\n",
       "275   Fair     J      I1     23\n",
       "\n",
       "[276 rows x 4 columns]"
      ]
     },
     "execution_count": 100,
     "metadata": {},
     "output_type": "execute_result"
    }
   ],
   "source": [
    "three_way = diamonds.groupby(['cut', 'color', 'clarity'], observed=True).size().reset_index(name='count')\n",
    "three_way"
   ]
  },
  {
   "cell_type": "code",
   "execution_count": null,
   "metadata": {},
   "outputs": [
    {
     "data": {
      "image/png": "[encoded data removed]",
      "text/plain": [
       "<Figure size 2400x1400 with 2 Axes>"
      ]
     },
     "metadata": {},
     "output_type": "display_data"
    }
   ],
   "source": [
    "# Group data with only observed combinations\n",
    "three_way = diamonds.groupby(['cut', 'color', 'clarity'], observed=True).size().reset_index(name='count')\n",
    "\n",
    "# Convert categories to numeric codes for 3D plotting\n",
    "cut_codes = three_way['cut'].astype('category').cat.codes\n",
    "color_codes = three_way['color'].astype('category').cat.codes\n",
    "counts = three_way['count']\n",
    "\n",
    "# Normalize counts for colormap\n",
    "norm = Normalize(vmin=counts.min(), vmax=counts.max())\n",
    "colors = coolwarm(norm(counts))\n",
    "\n",
    "# Create 3D plot\n",
    "fig = plt.figure(figsize=(24, 14))\n",
    "ax = fig.add_subplot(111, projection='3d')\n",
    "\n",
    "# Plot 3D bars\n",
    "ax.bar3d(\n",
    "    cut_codes, color_codes, np.zeros_like(counts),\n",
    "    dx=0.6, dy=0.6, dz=counts,\n",
    "    color=colors, shade=True\n",
    ")\n",
    "\n",
    "# Axis labels and ticks\n",
    "cut_labels = three_way['cut'].astype('category').cat.categories\n",
    "color_labels = three_way['color'].astype('category').cat.categories\n",
    "\n",
    "ax.set_xticks(np.unique(cut_codes))\n",
    "ax.set_xticklabels(cut_labels, rotation=60, fontsize=16)\n",
    "\n",
    "ax.set_yticks(np.unique(color_codes))\n",
    "ax.set_yticklabels(color_labels, fontsize=16)\n",
    "\n",
    "ax.set_xlabel('Cut', fontsize=18, labelpad=15)\n",
    "ax.set_ylabel('Color', fontsize=18, labelpad=15)\n",
    "ax.set_zlabel('Count', fontsize=18, labelpad=15)\n",
    "ax.set_title('3D Bar Plot of Cut, Color & Clarity (Colored by Count)', fontsize=22, pad=20)\n",
    "\n",
    "# Add colorbar\n",
    "sm = ScalarMappable(norm=norm, cmap='coolwarm')\n",
    "sm.set_array(counts)\n",
    "cax = fig.add_axes([0.93, 0.2, 0.02, 0.6])\n",
    "cb = fig.colorbar(sm, cax=cax)\n",
    "cb.set_label('Count', fontsize=16)\n",
    "cb.ax.tick_params(labelsize=14)\n",
    "\n",
    "# Final layout\n",
    "fig.subplots_adjust(left=0.05, right=0.9, top=0.9, bottom=0.1)\n",
    "plt.show()\n"
   ]
  },
  {
   "cell_type": "markdown",
   "metadata": {},
   "source": [
    "<div align=\"center\">\n",
    "\n",
    "\n",
    "\n",
    "| Feature Combination         | Reason to Explore                                     |\n",
    "|----------------------------|--------------------------------------------------------|\n",
    "| `cut × clarity`            | Both are ordered qualities; strong for quality insight |\n",
    "| `cut × color`              | Visible features; useful for marketing and sales insight |\n",
    "| `clarity × color`          | Compare internal (hidden) vs external (visible) qualities |\n",
    "| `cut × color × clarity`    | Enables deep analysis, customer segmentation, and modeling |\n",
    "\n",
    "\n",
    "</div>"
   ]
  },
  {
   "cell_type": "markdown",
   "metadata": {},
   "source": [
    "<div style=\"font-family: Avenir, sans-serif; font-size: 16px; line-height: 1.6; color: white; background-color: #333; padding: 10px; border-radius: 5px;\">\n",
    "\n",
    "🖐️ **Insight:**   \n",
    "\n",
    "Exploring all three features together enables deep segmentation and is essential for building robust predictive models (e.g., price estimation).\n",
    "\n",
    "This 3D combination uncovers the most common and valuable diamond profiles, allowing businesses to optimize inventory, recommend product bundles, or fine-tune pricing algorithms. For instance, identifying frequent combinations like Ideal Cut + G Color + VS2 Clarity allows for strategic promotions or custom packages.\n",
    "This level of detail is critical for:\n",
    "- Diamond pricing strategies\n",
    "- Customer segmentation\n",
    "- Inventory forecasting\n",
    "- Building machine learning models that rely on interactions between categorical features\n",
    "\n",
    "\n",
    "\n",
    "</div>"
   ]
  },
  {
   "cell_type": "markdown",
   "metadata": {},
   "source": [
    "## 🔍 Data Visualization: Numerical Attributes\n",
    "___"
   ]
  },
  {
   "cell_type": "markdown",
   "metadata": {},
   "source": [
    "### **Summary Statistics**"
   ]
  },
  {
   "cell_type": "code",
   "execution_count": null,
   "metadata": {},
   "outputs": [],
   "source": [
    "# exploring the statistics of the numerical columns\n",
    "df[numericals].describe().round(2).transpose()"
   ]
  },
  {
   "cell_type": "markdown",
   "metadata": {},
   "source": [
    "<div style=\"font-family: Avenir, sans-serif; font-size: 16px; line-height: 1.6; color: white; background-color: #333; padding: 10px; border-radius: 5px;\">\n",
    "\n",
    "🖐️ **Insight:**   \n",
    "- The mean price of diamonds is around 3933, and while the mean carat weight is 0.8, the mean depth percentage is 61.7.\n",
    "- The standard deviation of price is quite high, indicating a wide range of prices in the dataset. \n",
    "- The carat weight also has a large standard deviation, suggesting a wide range of carat weights in the dataset. \n",
    "- The high standard deviation of price and carat weight indicates that the data is spread out over a wide range of values.The understanding of the summary statistics will help us to identify the range of values for each attribute and detect any potential outliers.\n",
    "\n",
    "</div>"
   ]
  },
  {
   "cell_type": "code",
   "execution_count": null,
   "metadata": {},
   "outputs": [],
   "source": [
    "df.describe(include='all').T"
   ]
  },
  {
   "cell_type": "markdown",
   "metadata": {},
   "source": [
    "### **KDE Plots**"
   ]
  },
  {
   "cell_type": "code",
   "execution_count": null,
   "metadata": {},
   "outputs": [],
   "source": [
    "# plotting the  kde for the numerical columns\n",
    "for col in numerical_columns:\n",
    "    plt.figure(figsize=(15,6), dpi=100, facecolor='w', edgecolor='k')\n",
    "    sns.kdeplot(df[col])\n",
    "    plt.title(f'{col} distribution')\n",
    "    plt.show()"
   ]
  },
  {
   "cell_type": "markdown",
   "metadata": {},
   "source": [
    "<div style=\"font-family: Avenir, sans-serif; font-size: 16px; line-height: 1.6; color: white; background-color: #333; padding: 10px; border-radius: 5px;\">\n",
    "\n",
    "🖐️ **Insight:**   \n",
    "\n",
    "- From the diagram above, we can see that the carat attribute has a right-skewed distribution, with most diamonds having a carat weight of less than 1. \n",
    "- The price attribute also has a right-skewed distribution, with most diamonds priced below $5,000. \n",
    "- The depth and table attributes have relatively normal distributions, with depth ranging from 55 to 70 and table ranging from 50 to 70.\n",
    "- Understanding the distribution of numerical attributes will help us to identify patterns and trends in the data and make informed decisions during model development.\n",
    "\n",
    "</div>"
   ]
  },
  {
   "cell_type": "code",
   "execution_count": null,
   "metadata": {},
   "outputs": [],
   "source": []
  },
  {
   "cell_type": "markdown",
   "metadata": {},
   "source": [
    "___"
   ]
  },
  {
   "cell_type": "markdown",
   "metadata": {},
   "source": [
    "### **Outliers Detection**"
   ]
  },
  {
   "cell_type": "code",
   "execution_count": null,
   "metadata": {},
   "outputs": [],
   "source": [
    "# plotting the boxplot for the numerical columns\n",
    "df[numerical_columns].boxplot(figsize=(15,10), color='coral')\n",
    "plt.suptitle('Boxplots of Numerical Columns', x=0.5, y=1.02, ha='center', fontsize='large')\n",
    "plt.tight_layout()\n",
    "plt.show()"
   ]
  },
  {
   "cell_type": "markdown",
   "metadata": {},
   "source": [
    "From the box plots, it is obvious that the price have a lot of outliers. This is important to note because outliers can affect the performance of machine learning models. Therefore, we need to consider removing or transforming these outliers before training the model.\n",
    "\n",
    "To help visualize the outliers comparatively, we will plot all the numerical attributes in the dataset within the same range"
   ]
  },
  {
   "cell_type": "code",
   "execution_count": null,
   "metadata": {},
   "outputs": [],
   "source": [
    "# plotting the boxplot for the numerical columns\n",
    "fig, axes = plt.subplots(1, len(numerical_columns), figsize=(15, 10))\n",
    "plt.suptitle('Boxplots of Numerical Columns', x=0.5, y=1.02, ha='center', fontsize='large')\n",
    "for i, column in enumerate(numerical_columns):\n",
    "    df[column].plot(kind='box', ax=axes[i])\n",
    "    axes[i].set_title(column)\n",
    "plt.tight_layout()\n",
    "plt.show()"
   ]
  },
  {
   "cell_type": "markdown",
   "metadata": {},
   "source": [
    "<div style=\"font-family: Avenir, sans-serif; font-size: 16px; line-height: 1.6; color: white; background-color: #333; padding: 10px; border-radius: 5px;\">\n",
    "\n",
    "🖐️ **Insight:**   \n",
    "- The price attribute has a significant number of outliers, with one diamond priced at $18,823. This outlier may need further investigation to determine if it is a valid data point or an error in the dataset.\n",
    "- The carat attribute also has a few outliers, with one diamond weighing over 4 carats. These outliers may need to be addressed to prevent them from affecting the model's performance.\n",
    "- The depth and table attributes do not have many outliers, indicating that most diamonds fall within a normal range of values for these attributes.\n",
    "\n",
    "</div>"
   ]
  },
  {
   "cell_type": "markdown",
   "metadata": {},
   "source": [
    "### **Visualising Target Variable (Price)**"
   ]
  },
  {
   "cell_type": "code",
   "execution_count": null,
   "metadata": {},
   "outputs": [],
   "source": [
    "fig, ax = plt.subplots(figsize=(15, 6))\n",
    "sns.histplot(df['price'], kde=True, color='skyblue')\n",
    "plt.title('Price Distribution')\n",
    "plt.show()\n"
   ]
  },
  {
   "cell_type": "markdown",
   "metadata": {},
   "source": [
    "<div style=\"font-family: Avenir, sans-serif; font-size: 16px; line-height: 1.6; color: white; background-color: #333; padding: 10px; border-radius: 5px;\">\n",
    "\n",
    "🖐️ **Insight:**   \n",
    "- The price attribute has a right-skewed distribution, with most diamonds priced below $5,000.\n",
    "- The distribution of prices is not balanced, with a few diamonds priced above $10,000. \n",
    "- This may affect the performance of the model, as it may be biased towards predicting lower prices.\n",
    "- We need to consider transforming the price attribute to achieve a more normal distribution and improve model performance."
   ]
  },
  {
   "cell_type": "markdown",
   "metadata": {},
   "source": [
    "# 📚 4. SETTING UP THE VALIDATION FRAMEWORK\n",
    "___\n",
    "\n",
    "<div style=\"font-family: Avenir, sans-serif; font-size: 16px; line-height: 1.6; color: white; background-color: #333; padding: 10px; border-radius: 5px;\">\n",
    "This section will focus on setting up the validation framework for training and evaluating machine learning models. We will split the data into training and testing sets, define evaluation metrics, and implement cross-validation to assess model performance.\n",
    "\n",
    "</div>"
   ]
  },
  {
   "cell_type": "markdown",
   "metadata": {},
   "source": [
    "## 🔍 Data Splitting"
   ]
  },
  {
   "cell_type": "code",
   "execution_count": null,
   "metadata": {},
   "outputs": [],
   "source": [
    "# import the model from the sklearn library\n",
    "from sklearn.model_selection import train_test_split\n",
    "\n",
    "# split the dataset into train and test dataset\n",
    "df_full_train, df_test = train_test_split(df, test_size=0.2, random_state=11)\n",
    "\n",
    "# split the train dataset into train and validation dataset\n",
    "df_train, df_val = train_test_split(df_full_train, test_size=0.25, random_state=11)"
   ]
  },
  {
   "cell_type": "code",
   "execution_count": null,
   "metadata": {},
   "outputs": [],
   "source": [
    "# check the shape of the datasets§\n",
    "len(df_train), len(df_val), len(df_test)"
   ]
  },
  {
   "cell_type": "code",
   "execution_count": null,
   "metadata": {},
   "outputs": [],
   "source": [
    "# reset the index of the dataset\n",
    "df_train = df_train.reset_index(drop=True)\n",
    "df_val = df_val.reset_index(drop=True)\n",
    "df_test = df_test.reset_index(drop=True)"
   ]
  },
  {
   "cell_type": "markdown",
   "metadata": {},
   "source": [
    "## 🔍 Target Variable Splitting"
   ]
  },
  {
   "cell_type": "code",
   "execution_count": null,
   "metadata": {},
   "outputs": [],
   "source": [
    "# assigning the target variables to the y_train from the df_train\n",
    "y_train = df_train['price'].values\n",
    "\n",
    "# assigning the target variables to the y_test from the df_test\n",
    "y_test = df_test['price'].values\n",
    "\n",
    "# assigning the target variables to the y_val from the df_val\n",
    "y_val = df_val['price'].values"
   ]
  },
  {
   "cell_type": "code",
   "execution_count": null,
   "metadata": {},
   "outputs": [],
   "source": [
    "# drop the target variable from the dataset\n",
    "del df_train['price']\n",
    "del df_test['price']\n",
    "del df_val['price']"
   ]
  },
  {
   "cell_type": "markdown",
   "metadata": {},
   "source": [
    "it is important to check the data frame after the data processing. This is important to know the number of rows and columns in the dataset."
   ]
  },
  {
   "cell_type": "code",
   "execution_count": null,
   "metadata": {},
   "outputs": [],
   "source": [
    "# check the head of the train dataset\n",
    "df_train.head()"
   ]
  },
  {
   "cell_type": "code",
   "execution_count": null,
   "metadata": {},
   "outputs": [],
   "source": [
    "# shape of the train dataset\n",
    "df_train.shape"
   ]
  },
  {
   "cell_type": "code",
   "execution_count": null,
   "metadata": {},
   "outputs": [],
   "source": [
    "# check the head of the test dataset\n",
    "df_test.head()"
   ]
  },
  {
   "cell_type": "code",
   "execution_count": null,
   "metadata": {},
   "outputs": [],
   "source": [
    "# shape of the test dataset\n",
    "df_test.shape"
   ]
  },
  {
   "cell_type": "code",
   "execution_count": null,
   "metadata": {},
   "outputs": [],
   "source": [
    "# check the head of the validation dataset\n",
    "df_val.head()"
   ]
  },
  {
   "cell_type": "code",
   "execution_count": null,
   "metadata": {},
   "outputs": [],
   "source": [
    "# shape of the validation dataset\n",
    "df_val.shape"
   ]
  },
  {
   "cell_type": "code",
   "execution_count": null,
   "metadata": {},
   "outputs": [],
   "source": []
  },
  {
   "cell_type": "markdown",
   "metadata": {},
   "source": [
    "# 📚 5. FEATURES IMPORTANCE \n",
    "___\n",
    "\n",
    "<div style=\"font-family: Avenir, sans-serif; font-size: 16px; line-height: 1.6; color: white; background-color: #333; padding: 10px; border-radius: 5px;\">\n",
    "This section focuses on choosing the most important features for the model. We will use feature selection techniques such as correlation analysis, and k-best selection to identify the most relevant attributes for predicting diamond prices.\n",
    "\n",
    "</div>"
   ]
  },
  {
   "cell_type": "markdown",
   "metadata": {},
   "source": [
    "## 🔍 Feature Selection for Diamond Price Prediction"
   ]
  },
  {
   "cell_type": "markdown",
   "metadata": {},
   "source": [
    "\n",
    "\n",
    "In this section, the focus is on identifying the most influential features that drive the **price of diamonds**. Selecting the right features is a crucial step in building an effective and interpretable regression model.\n",
    "\n",
    "To achieve this, we will apply two widely-used feature selection techniques:\n",
    "\n",
    "- **Correlation Analysis**  \n",
    "  This helps uncover linear relationships between independent variables and the target variable (price). Features with strong positive or negative correlations are often valuable predictors.\n",
    "\n",
    "- **K-Best Selection**  \n",
    "  This statistical method ranks all features based on their individual predictive power and selects the top *k* features that have the highest impact on the model's performance.\n",
    "\n",
    "By applying these techniques, we aim to reduce noise, improve model accuracy, and gain insights into the **key attributes**—such as carat, cut, color, and clarity—that most significantly influence diamond pricing.\n"
   ]
  },
  {
   "cell_type": "markdown",
   "metadata": {},
   "source": [
    "## 🔍 Correlation Analysis"
   ]
  },
  {
   "cell_type": "markdown",
   "metadata": {},
   "source": [
    "The correlation matrix helps us to identify the relationships between numerical attributes and the target variable. We will use the correlation matrix to identify the most important features for predicting diamond prices."
   ]
  },
  {
   "cell_type": "code",
   "execution_count": null,
   "metadata": {},
   "outputs": [],
   "source": [
    "# plotting the correlation matrix\n",
    "corr_matrix = df[numerical_columns].corr().round(2)\n",
    "corr_matrix"
   ]
  },
  {
   "cell_type": "markdown",
   "metadata": {},
   "source": [
    "To understand the relationships between numerical attributes, We will extract the correlation matrix of the dataset and visualize it using a heatmap."
   ]
  },
  {
   "cell_type": "code",
   "execution_count": null,
   "metadata": {},
   "outputs": [],
   "source": [
    "corr_matrix['price'].sort_values(ascending=False)"
   ]
  },
  {
   "cell_type": "code",
   "execution_count": null,
   "metadata": {},
   "outputs": [],
   "source": [
    "# Create a mask for the upper triangle\n",
    "mask = np.triu(np.ones_like(corr_matrix, dtype=bool))\n",
    "\n",
    "# Plot the heatmap with the mask\n",
    "plt.figure(figsize=(15, 6))\n",
    "sns.heatmap(\n",
    "    corr_matrix, \n",
    "    mask=mask,               # Apply the mask to hide the upper triangle\n",
    "    annot=True,              # Show correlation values\n",
    "    cmap='coolwarm',         # Color map\n",
    "    linewidths=0.5,          # Grid line width\n",
    "    vmin=-1, vmax=1          # Fix color scale from -1 to 1\n",
    ")\n",
    "plt.title('Correlation Heatmap (Lower Triangle)', fontsize=16)\n",
    "plt.tight_layout()\n",
    "plt.show()"
   ]
  },
  {
   "cell_type": "markdown",
   "metadata": {},
   "source": [
    "<div style=\"font-family: Avenir, sans-serif; font-size: 16px; line-height: 1.6; color: white; background-color: #333; padding: 10px; border-radius: 5px;\">\n",
    "\n",
    "🖐️ **Insight:**   \n",
    "- The carat attribute has a strong positive correlation with the price attribute <font color = red> (0.92) </font>, indicating that larger diamonds tend to be more expensive.\n",
    "- The depth<font color = red> (-0.01) </font>, and table <font color = red> (0.13) </font> attributes have weak correlations with the price attribute, suggesting that they may not be significant predictors of diamond price.\n",
    "- The x_factor, z_factor, and y_factor attributes  of <font color = red> 0.88 , 0.86, 0.87 </font> respectively have positive correlations with the price attribute, indicating that larger dimensions tend to be associated with higher prices.\n",
    "\n",
    "</div>"
   ]
  },
  {
   "cell_type": "markdown",
   "metadata": {},
   "source": [
    "From the above, it is instructive to note that the `carat` attribute has the highest correlation with the price <font color = red> (0.92) </font>, attribute, followed `x_factor`, `z_factor`, and `y_factor` attributes  of <font color = red> 0.88 , 0.86, 0.87 </font> respectively\n",
    "\n",
    "This suggests that carat weight and dimensions are important predictors of diamond price. The other attributes (depth, and table) have weaker correlations with the price attribute, indicating that they may not be as significant in predicting diamond prices.     \n",
    "\n",
    "This relationship will be further explored in the feature engineering section, and it is best explained with the help of a scatter plot using the scatter plot to visualize the relationship between the carat attribute and the price attribute."
   ]
  },
  {
   "cell_type": "code",
   "execution_count": null,
   "metadata": {},
   "outputs": [],
   "source": [
    "category_columns = df.select_dtypes(include=['object']).columns\n",
    "category_columns"
   ]
  },
  {
   "cell_type": "code",
   "execution_count": null,
   "metadata": {},
   "outputs": [],
   "source": [
    "# Plotting the pairplot\n",
    "plt.figure(figsize=(15, 6))\n",
    "sns.pairplot(\n",
    "    df[numericals],\n",
    "    diag_kind='kde',     # KDE on diagonal\n",
    "    plot_kws={'alpha': 0.3, 's': 5},\n",
    "    height=2.5, hue='color'           # Size of each subplot\n",
    ")\n",
    "plt.suptitle('Relationships Between Numerical Features', y=1.02, fontsize=16)\n",
    "plt.show()"
   ]
  },
  {
   "cell_type": "markdown",
   "metadata": {},
   "source": [
    "<div style=\"font-family: Avenir, sans-serif; font-size: 16px; line-height: 1.6; color: white; background-color: #333; padding: 10px; border-radius: 5px;\">\n",
    "\n",
    "🖐️ **Insight:**   \n",
    "- From the pairplot above, it is obvious that carat and price have a strong positive correlation with the scatter plot showing a linear relationship between the two attributes.\n",
    "- The scatter plot also shows price have linear relationship with the x_factor, z_factor, and y_factor attributes, indicating that larger dimensions tend to be associated with higher prices.\n",
    "- The depth and table attributes do not show a clear relationship with the price attribute, suggesting that they may not be significant predictors of diamond price."
   ]
  },
  {
   "cell_type": "markdown",
   "metadata": {},
   "source": [
    "To better understand the relationship between the carat attribute and the price attribute, we will zoom in on the scatter plot to examine the data points more closely."
   ]
  },
  {
   "cell_type": "code",
   "execution_count": null,
   "metadata": {},
   "outputs": [],
   "source": [
    "fig, ax = plt.subplots(1, 1, figsize=(15, 10))\n",
    "sns.scatterplot(data=df, x='carat', y='price', alpha=0.5, ax=ax )\n",
    "plt.title('Price vs Carat')\n",
    "plt.show()"
   ]
  },
  {
   "cell_type": "markdown",
   "metadata": {},
   "source": [
    "It will be interesting to see how the cut, color, and clarity of diamonds affect their prices."
   ]
  },
  {
   "cell_type": "code",
   "execution_count": null,
   "metadata": {},
   "outputs": [],
   "source": [
    "\n",
    "# Create figure and GridSpec layout\n",
    "fig = plt.figure(figsize=(18, 12))\n",
    "grid = GridSpec(2, 2, figure=fig, height_ratios=[1, 1.5])  # Make bottom row bigger\n",
    "\n",
    "# Scatter plot for 'cut'\n",
    "ax1 = fig.add_subplot(grid[0, 0])\n",
    "sns.scatterplot(data=df, x='carat', y='price', hue='cut', alpha=0.5, palette='dark', ax=ax1)\n",
    "ax1.set_title('Price vs Carat (categorical Attributes: Cut)')\n",
    "ax1.set_xlabel('Carat')\n",
    "ax1.set_ylabel('Price')\n",
    "\n",
    "# Scatter plot for 'color'\n",
    "ax2 = fig.add_subplot(grid[0, 1])\n",
    "sns.scatterplot(data=df, x='carat', y='price', hue='color', alpha=0.5, palette='coolwarm', ax=ax2)\n",
    "ax2.set_title('Price vs Carat (categorical Attributes: Color)')\n",
    "ax2.set_xlabel('Carat')\n",
    "ax2.set_ylabel('Price')\n",
    "\n",
    "# Large Scatter plot for 'clarity' spanning entire second row\n",
    "ax3 = fig.add_subplot(grid[1, :])\n",
    "sns.scatterplot(data=df, x='carat', y='price', hue='clarity', alpha=0.5, palette='viridis', ax=ax3)\n",
    "ax3.set_title('Price vs Carat (categorical Attributes: Clarity)')\n",
    "ax3.set_xlabel('Carat')\n",
    "ax3.set_ylabel('Price')\n",
    "\n",
    "plt.tight_layout()\n",
    "plt.show()\n"
   ]
  },
  {
   "cell_type": "markdown",
   "metadata": {},
   "source": [
    "<div style=\"font-family: Avenir, sans-serif; font-size: 16px; line-height: 1.6; color: white; background-color: #333; padding: 10px; border-radius: 5px;\">\n",
    "\n",
    "🖐️ **Insight:**   \n",
    "- From the scatter plot above, we can see that the carat attribute has a linear relationship with the price attribute, with larger diamonds tending to be more expensive. \n",
    "- The scatter plot also shows that the cut attribute has a significant impact on the price of diamonds, with higher color grades corresponding to higher prices. \n",
    "- The cut and clarity attributes also have an impact on diamond prices, with higher cut and clarity grades corresponding to higher prices."
   ]
  },
  {
   "cell_type": "code",
   "execution_count": null,
   "metadata": {},
   "outputs": [],
   "source": [
    "fig, ax = plt.subplots(1, 1, figsize=(15, 10))\n",
    "sns.scatterplot(data=df, x='x_factor', y='price', hue='cut', alpha=0.5, ax=ax)\n",
    "plt.title('Price vs x (Premium)')\n",
    "plt.show()"
   ]
  },
  {
   "cell_type": "code",
   "execution_count": null,
   "metadata": {},
   "outputs": [],
   "source": [
    "\n",
    "# Create figure and GridSpec layout\n",
    "fig = plt.figure(figsize=(18, 12))\n",
    "grid = GridSpec(2, 2, figure=fig, height_ratios=[1, 1.5])  # Make bottom row bigger\n",
    "\n",
    "# Scatter plot for 'cut'\n",
    "ax1 = fig.add_subplot(grid[0, 0])\n",
    "sns.scatterplot(data=df, x='x_factor', y='price', hue='cut', alpha=0.5, palette='dark', ax=ax1)\n",
    "ax1.set_title('Price vs x_factor (categorical Attributes: Cut)')\n",
    "ax1.set_xlabel('Carat')\n",
    "ax1.set_ylabel('Price')\n",
    "\n",
    "# Scatter plot for 'color'\n",
    "ax2 = fig.add_subplot(grid[0, 1])\n",
    "sns.scatterplot(data=df, x='x_factor', y='price', hue='color', alpha=0.5, palette='coolwarm', ax=ax2)\n",
    "ax2.set_title('Price vs x_factor  (categorical Attributes: Color)')\n",
    "ax2.set_xlabel('Carat')\n",
    "ax2.set_ylabel('Price')\n",
    "\n",
    "# Large Scatter plot for 'clarity' spanning entire second row\n",
    "ax3 = fig.add_subplot(grid[1, :])\n",
    "sns.scatterplot(data=df, x='x_factor', y='price', hue='clarity', alpha=0.5, palette='viridis', ax=ax3)\n",
    "ax3.set_title('Price vs x_factor  (categorical Attributes: Clarity)')\n",
    "ax3.set_xlabel('Carat')\n",
    "ax3.set_ylabel('Price')\n",
    "\n",
    "plt.tight_layout()\n",
    "plt.show()"
   ]
  },
  {
   "cell_type": "markdown",
   "metadata": {},
   "source": [
    "<div style=\"font-family: Avenir, sans-serif; font-size: 16px; line-height: 1.6; color: white; background-color: #333; padding: 10px; border-radius: 5px;\">\n",
    "\n",
    "🖐️ **Insight:**   \n",
    "- There is a clear positive correlation between the X_factor attribute and the price attribute, with larger diamonds tending to be more expensive.\n",
    "- The cut, color, and clarity attributes also have a significant impact on diamond prices, with higher grades corresponding to higher prices."
   ]
  },
  {
   "cell_type": "markdown",
   "metadata": {},
   "source": [
    "## 🔍 K-Best Selection method"
   ]
  },
  {
   "cell_type": "markdown",
   "metadata": {},
   "source": [
    "The K-Best selection method ranks the features based on their predictive power and selects the top k features that have the highest impact on the model's performance. We will use this method to identify the most important features for predicting diamond prices.\n",
    "\n",
    "To use the K-Best selection method, we need to encode the categorical columns using one-hot encoding. This will convert the categorical columns into numerical columns that can be used in the feature selection process.\n",
    "\n",
    "To facilitate the feature selection process, we build pipelines that include the one-hot encoding and K-Best selection steps. This will help us to streamline the feature selection process and identify the most important features for predicting diamond prices.\n"
   ]
  },
  {
   "cell_type": "code",
   "execution_count": null,
   "metadata": {},
   "outputs": [],
   "source": [
    "# Step 1: Import necessary libraries\n",
    "from sklearn.feature_selection import SelectKBest, f_regression\n",
    "from sklearn.preprocessing import OneHotEncoder\n",
    "from sklearn.compose import ColumnTransformer\n",
    "from sklearn.pipeline import Pipeline\n",
    "import pandas as pd\n",
    "import numpy as np\n"
   ]
  },
  {
   "cell_type": "markdown",
   "metadata": {},
   "source": [
    "### **Encode Categorical Features Using ColumnTransformer**"
   ]
  },
  {
   "cell_type": "code",
   "execution_count": null,
   "metadata": {},
   "outputs": [],
   "source": [
    "# Create a ColumnTransformer to encode categoricals\n",
    "preprocessor = ColumnTransformer(transformers=[\n",
    "    ('cat', OneHotEncoder(drop='first'), categorical_columns)\n",
    "], remainder='passthrough', sparse_threshold=0) \n"
   ]
  },
  {
   "cell_type": "markdown",
   "metadata": {},
   "source": [
    "**🧠 What It Does:**.    \n",
    "This creates a data preprocessing pipeline that:\n",
    "\n",
    "- Applies OneHotEncoder to all categorical columns\n",
    "- Leaves all numerical columns untouched (remainder='passthrough')\n",
    "\n",
    "\n",
    "📌 Why This Is Important:   \n",
    "- SelectKBest only works with numerical features, so we must convert categorical features (like \"cut\", \"color\", \"clarity\") into numbers.\n",
    "- OneHotEncoder creates binary (0/1) features for each category.\n",
    "- drop='first' avoids the dummy variable trap (perfect multicollinearity).\n",
    "\n",
    "\n",
    "\n",
    "<div style=\"font-family: Avenir, sans-serif; font-size: 16px; line-height: 1.6; color: white; background-color: #333; padding: 10px; border-radius: 5px;\">\n",
    "I used ColumnTransformer to handle categorical encoding separately from numeric features, ensuring that the data passed to SelectKBest is fully numerical. One-hot encoding lets us capture non-ordinal categories cleanly.”\n",
    "\n",
    "</div>"
   ]
  },
  {
   "cell_type": "markdown",
   "metadata": {},
   "source": [
    "___"
   ]
  },
  {
   "cell_type": "markdown",
   "metadata": {},
   "source": [
    "### **Combine Preprocessing and Feature Selection in a Pipeline**"
   ]
  },
  {
   "cell_type": "code",
   "execution_count": null,
   "metadata": {},
   "outputs": [],
   "source": [
    "pipeline = Pipeline(steps=[\n",
    "    ('preprocessor', preprocessor),\n",
    "    ('feature_selector', SelectKBest(score_func=f_regression, k=5))\n",
    "])\n"
   ]
  },
  {
   "cell_type": "markdown",
   "metadata": {},
   "source": [
    "**🧠 What It Does:**. \n",
    "\n",
    "Creates a pipeline with two steps:  \n",
    "\n",
    "- preprocessor: applies all the feature transformations.\n",
    "- SelectKBest: ranks and selects the top 5 features most correlated with price.\n",
    "\n",
    "📌 Why This Is Important:   \n",
    "- It ensures clean, reproducible transformations.\n",
    "- The pipeline allows you to call .fit() once and apply both steps in sequence.\n",
    "- f_regression evaluates linear correlation between each feature and the target variable (price).\n",
    "\n",
    "\n",
    "\n",
    "<div style=\"font-family: Avenir, sans-serif; font-size: 16px; line-height: 1.6; color: white; background-color: #333; padding: 10px; border-radius: 5px;\">\n",
    "I built a pipeline combining preprocessing and feature selection so that my workflow is modular, repeatable, and easy to scale. Using f_regression with SelectKBest allows me to statistically evaluate each feature’s contribution to predicting price.”\n",
    "\n",
    "</div>"
   ]
  },
  {
   "cell_type": "markdown",
   "metadata": {},
   "source": [
    "___"
   ]
  },
  {
   "cell_type": "markdown",
   "metadata": {},
   "source": [
    "### **Fit the Pipeline to the Training Data**"
   ]
  },
  {
   "cell_type": "code",
   "execution_count": null,
   "metadata": {},
   "outputs": [],
   "source": [
    "# Step 7: Define X and y, then fit the pipeline\n",
    "X = df_train\n",
    "y = y_train\n",
    "\n",
    "pipeline.fit(X, y)\n",
    "\n"
   ]
  },
  {
   "cell_type": "code",
   "execution_count": null,
   "metadata": {},
   "outputs": [],
   "source": [
    "print(pipeline)"
   ]
  },
  {
   "cell_type": "markdown",
   "metadata": {},
   "source": [
    "**🧠 What It Does:**   \n",
    "- Fits the pipeline on this training data.\n",
    "- The pipeline will apply all transformations and select the top 5 features most correlated with price.\n",
    "\n",
    "📌 Why This Is Important\n",
    "- It ensures that the pipeline learns the transformations from the training data.\n",
    "- The pipeline will apply the same transformations to the test data for consistency.:\n",
    "\n",
    "\n",
    "<div style=\"font-family: Avenir, sans-serif; font-size: 16px; line-height: 1.6; color: white; background-color: #333; padding: 10px; border-radius: 5px;\">\n",
    "“This step ensures the pipeline learns both how to encode the data and how to score the features using statistical tests during training.”\n",
    "\n",
    "</div>"
   ]
  },
  {
   "cell_type": "markdown",
   "metadata": {},
   "source": [
    "___"
   ]
  },
  {
   "cell_type": "markdown",
   "metadata": {},
   "source": [
    "### **Get Feature Names After Transformation**"
   ]
  },
  {
   "cell_type": "code",
   "execution_count": null,
   "metadata": {},
   "outputs": [],
   "source": [
    "ohe = pipeline.named_steps['preprocessor'].named_transformers_['cat']\n",
    "ohe_feature_names = ohe.get_feature_names_out(categorical_columns)"
   ]
  },
  {
   "cell_type": "markdown",
   "metadata": {},
   "source": [
    "**🧠 What It Does:**.  \n",
    "- Retrieves the actual names of the one-hot encoded columns.\n",
    "\n",
    "\n",
    "📌 Why This Is Important:\n",
    "- It helps us understand which features were selected by SelectKBest.\n",
    "- We need these names to match the selected top features later.\n",
    "\n",
    "\n",
    "<div style=\"font-family: Avenir, sans-serif; font-size: 16px; line-height: 1.6; color: white; background-color: #333; padding: 10px; border-radius: 5px;\">\n",
    "Since one-hot encoding expands categorical columns, I retrieved the transformed feature names so I could map the selected features back to their original meaning.\n",
    "\n",
    "\n",
    "</div>"
   ]
  },
  {
   "cell_type": "markdown",
   "metadata": {},
   "source": [
    "___"
   ]
  },
  {
   "cell_type": "markdown",
   "metadata": {},
   "source": [
    "### **Combine Feature Names for All Inputs**"
   ]
  },
  {
   "cell_type": "code",
   "execution_count": null,
   "metadata": {},
   "outputs": [],
   "source": [
    "numerical_columns_without_price = [col for col in numerical_columns if col != 'price']\n",
    "all_features = np.concatenate([ohe_feature_names, numerical_columns_without_price])"
   ]
  },
  {
   "cell_type": "markdown",
   "metadata": {},
   "source": [
    "**🧠 What It Does:**\n",
    "- Combines:\n",
    "  - Encoded categorical feature names\n",
    "  - Numerical feature names (excluding price, which is the target)\n",
    "\n",
    "📌 Why This Is Important:   \n",
    "- SelectKBest scores all transformed features, we need to know which features were selected."
   ]
  },
  {
   "cell_type": "markdown",
   "metadata": {},
   "source": [
    "____"
   ]
  },
  {
   "cell_type": "markdown",
   "metadata": {},
   "source": [
    "### **Get the Mask of Top Features**"
   ]
  },
  {
   "cell_type": "code",
   "execution_count": null,
   "metadata": {},
   "outputs": [],
   "source": [
    "mask = pipeline.named_steps['feature_selector'].get_support()\n",
    "selected_features = all_features[mask]"
   ]
  },
  {
   "cell_type": "markdown",
   "metadata": {},
   "source": [
    "**🧠 What It Does:**. \n",
    "- Retrieves a boolean mask of the top 5 features selected by SelectKBest.\n",
    "- get_support() returns a boolean array, indicating which features were selected (True) vs not (False).\n",
    "- selected_features is the final list of top k features (e.g. top 5).\n",
    "\n",
    "📌 Why This Is Important:\n",
    "- It helps us identify the most important features for predicting diamond prices.\n",
    "- We can use this mask to filter the top features from the full list of encoded and numerical features."
   ]
  },
  {
   "cell_type": "code",
   "execution_count": null,
   "metadata": {},
   "outputs": [],
   "source": [
    "print(\"Top K Features:\")\n",
    "print(selected_features)\n"
   ]
  },
  {
   "cell_type": "markdown",
   "metadata": {},
   "source": [
    "## 🧠 Correlation VS K-Best Selection"
   ]
  },
  {
   "cell_type": "markdown",
   "metadata": {},
   "source": [
    "\n",
    "\n",
    "<div style=\"font-family: Avenir, sans-serif; font-size: 16px; line-height: 1.6; color: white; background-color: #333; padding: 10px; border-radius: 5px;\">\n",
    "\n",
    "Following a thorough comparative analysis using two feature selection techniques—**correlation analysis** and **SelectKBest with `f_regression`**—the most influential features contributing to diamond price prediction were identified.\n",
    "\n",
    "Both techniques aimed to isolate the variables with the strongest statistical relationships to the target variable (`price`). While correlation analysis helped reveal direct linear relationships, K-Best selection applied a univariate statistical test to determine each feature's predictive power.\n",
    "\n",
    "Based on the overlap of both methods, the **top 5 most significant features** selected for modeling are:\n",
    "\n",
    "- **`carat`** – The weight of the diamond, which exhibits the strongest positive correlation with price. Larger carat diamonds generally cost more.\n",
    "- **`x_factor`** – A dimension of the diamond (length), closely related to size and thus value.\n",
    "- **`z_factor`** – The depth or height of the diamond, which contributes to the volume and perceived quality.\n",
    "- **`y_factor`** – Another physical dimension (width), impacting both appearance and weight.\n",
    "- **`clarity`** – A categorical feature indicating the internal purity of the diamond. Cleaner diamonds are typically more valuable.\n",
    "\n",
    "These features will be prioritized in model training to improve accuracy and interpretability, as they capture both the **physical dimensions** and **quality indicators** most directly linked to pricing.\n",
    "\n",
    "\n",
    "\n",
    "</div>"
   ]
  },
  {
   "cell_type": "markdown",
   "metadata": {},
   "source": [
    "After selection of these 5 tops features, it is important to check for the multicontinerity of each of these features to avoid overfitting of dataset"
   ]
  },
  {
   "cell_type": "markdown",
   "metadata": {},
   "source": [
    "## 🔍 Check for Multicollinearity on Selected Features"
   ]
  },
  {
   "cell_type": "markdown",
   "metadata": {},
   "source": []
  },
  {
   "cell_type": "markdown",
   "metadata": {},
   "source": []
  },
  {
   "cell_type": "markdown",
   "metadata": {},
   "source": []
  },
  {
   "cell_type": "markdown",
   "metadata": {},
   "source": []
  },
  {
   "cell_type": "markdown",
   "metadata": {},
   "source": [
    "# 📚 6. FEATURES ENGINEERING\n",
    "___\n",
    "\n",
    "<div style=\"font-family: Avenir, sans-serif; font-size: 16px; line-height: 1.6; color: white; background-color: #333; padding: 10px; border-radius: 5px;\">\n",
    "This section will focus on feature engineering, including creating new features, transforming existing features, and selecting relevant features for model training. We will also handle categorical encoding and feature scaling to prepare the data for machine learning.\n",
    "\n",
    "</div>"
   ]
  },
  {
   "cell_type": "markdown",
   "metadata": {},
   "source": [
    "From the data exploration, there are few  data transformation and feature engineering that can be done to improve the model performance. These include:\n",
    "- Remove outliers from the data attribute to prevent them from affecting the model's performance.\n",
    "- Scale the numerical attributes to ensure that all features have the same scale and prevent any one attribute from dominating the model.\n",
    "- Encode the categorical attributes using one-hot encoding to convert them into numerical format for machine learning.\n",
    "- Transform the price attribute to achieve a more normal distribution and improve model performance."
   ]
  },
  {
   "cell_type": "markdown",
   "metadata": {},
   "source": [
    "____"
   ]
  },
  {
   "cell_type": "markdown",
   "metadata": {},
   "source": [
    "## 🔍 Outliers Remove: (Based on df_train only):"
   ]
  },
  {
   "cell_type": "markdown",
   "metadata": {},
   "source": [
    "The outliers in the price attribute will be removed from the `training set` (df_training) to prevent them from affecting the model's performance. This will help to improve the accuracy of the model by removing data points that may skew the predictions.\n",
    "\n",
    "There are 4 steps of removing outliers:\n",
    "- identify the numericals for the outliers\n",
    "- Calculate the 25th and 75th percentiles of the numeric attribute, and the interquartile range (IQR).\n",
    "- Apply the IQR bounds across the training, validation, and test dataset\n",
    "- Align and updte the target variable (price) in the training, validation, and test dataset"
   ]
  },
  {
   "cell_type": "markdown",
   "metadata": {},
   "source": [
    "#### **📌 Step 1: Identify the numerical columns for the outliers**\n"
   ]
  },
  {
   "cell_type": "markdown",
   "metadata": {},
   "source": [
    "First step is to identify the numerical columns in the dataset that contain outliers. This will help us to focus on the relevant attributes when removing outliers from the training set."
   ]
  },
  {
   "cell_type": "code",
   "execution_count": null,
   "metadata": {},
   "outputs": [],
   "source": [
    "# Get numerical columns (excluding 'price')\n",
    "numerical_columns_without_price = ['carat', 'depth', 'table', 'x_factor', 'z_factor', 'y_factor']"
   ]
  },
  {
   "cell_type": "code",
   "execution_count": null,
   "metadata": {},
   "outputs": [],
   "source": [
    "# plotting the boxplot for the numerical columns without price\n",
    "fig, axes = plt.subplots(1, len(numerical_columns_without_price), figsize=(15, 10))\n",
    "plt.suptitle('Boxplots of Numerical Columns', x=0.5, y=1.02, ha='center', fontsize='large')\n",
    "\n",
    "for i, column in enumerate(numerical_columns_without_price):\n",
    "    df_train[column].plot(kind='box', ax=axes[i])\n",
    "    axes[i].set_title(column)\n",
    "plt.tight_layout()\n",
    "plt.show()"
   ]
  },
  {
   "cell_type": "markdown",
   "metadata": {},
   "source": [
    "Always best practice to check the shape of the data frame both for the test, val, and train before applying the IQR"
   ]
  },
  {
   "cell_type": "code",
   "execution_count": null,
   "metadata": {},
   "outputs": [],
   "source": [
    "print('The dataframe shape before applying the IQR:')\n",
    "print('df_train:', df_train.shape)\n",
    "print('df_val:', df_val.shape)\n",
    "print('df_test:', df_test.shape)"
   ]
  },
  {
   "cell_type": "code",
   "execution_count": null,
   "metadata": {},
   "outputs": [],
   "source": [
    "print( 'The target variable shape before applying the IQR:')\n",
    "print('y_train:', y_train.shape)\n",
    "print('y_val:', y_val.shape)\n",
    "print('y_test:', y_test.shape)"
   ]
  },
  {
   "cell_type": "markdown",
   "metadata": {},
   "source": [
    "#### **📌 Step 2: Calculate the lower bound (0.25) and upper bound (0.75) of the data.**\n",
    "\n"
   ]
  },
  {
   "cell_type": "markdown",
   "metadata": {},
   "source": [
    "\n",
    "Secondly, we will calculate the lower and upper bounds for the outliers using the Interquartile Range (IQR) method. This will help us to identify data points that fall outside the normal range of values for each attribute. The formula for calculating the lower and upper bounds is as follows:\n",
    "\n",
    "$$\n",
    "\\text{Lower Bound} = Q_1 - 1.5 \\times \\text{IQR}\n",
    "$$\n",
    "\n",
    "$$\n",
    "\\text{Upper Bound} = Q_3 + 1.5 \\times \\text{IQR}\n",
    "\n",
    "§\n",
    "$$\n",
    "\n",
    "\n",
    "$$\n",
    "\\text{IQR} = Q_3 - Q_1\n",
    "\n",
    "$$\n",
    "Where:  \n",
    "- $Q_1$ is the 25th percentile\n",
    "- $Q_3$ is the 75th percentile\n",
    "- $\\text{IQR}$ is the Interquartile Range\n",
    "\n",
    "The IQR method is a robust way to identify outliers in the data by considering the spread of values around the median. Data points that fall outside the lower and upper bounds are considered outliers and will be removed from the dataset. The IQR is best apply using a function to ensure the same logic is applied across the training, validation, and test datasets.\n"
   ]
  },
  {
   "cell_type": "code",
   "execution_count": null,
   "metadata": {},
   "outputs": [],
   "source": [
    "# function to get the IQR bounds\n",
    "def get_iqr_bounds(df, columns):\n",
    "    bounds = {}\n",
    "    for col in columns:\n",
    "        Q1 = df[col].quantile(0.25)\n",
    "        Q3 = df[col].quantile(0.75)\n",
    "        IQR = Q3 - Q1\n",
    "        lower = Q1 - 1.5 * IQR\n",
    "        upper = Q3 + 1.5 * IQR\n",
    "        bounds[col] = (lower, upper)\n",
    "    return bounds\n",
    "\n",
    "# calling the function to get the IQR bounds\n",
    "iqr_bounds = get_iqr_bounds(df_train, numerical_columns_without_price)"
   ]
  },
  {
   "cell_type": "code",
   "execution_count": null,
   "metadata": {},
   "outputs": [],
   "source": [
    "# Display the IQR bounds\n",
    "for col, (lower, upper) in iqr_bounds.items():\n",
    "    print(f\"{col}: Lower Bound = {lower:.2f}, Upper Bound = {upper:.2f}\")"
   ]
  },
  {
   "cell_type": "markdown",
   "metadata": {},
   "source": [
    "#### **📌 Step 3: Applied the IQR bounds across the training, validation, and test datasets:**\n"
   ]
  },
  {
   "cell_type": "markdown",
   "metadata": {},
   "source": [
    "Following the calculation of the lower and upper bounds for the outliers, we will apply these bounds to the training, validation, and test datasets to remove the outliers from the price attribute. This will help to ensure that the model is trained on clean data without any outliers that may affect its performance."
   ]
  },
  {
   "cell_type": "code",
   "execution_count": null,
   "metadata": {},
   "outputs": [],
   "source": [
    "def apply_iqr_bounds(df, bounds):\n",
    "    for col, (low, high) in bounds.items():\n",
    "        df = df[(df[col] >= low) & (df[col] <= high)]\n",
    "    return df.reset_index(drop=True)\n",
    "\n",
    "# Apply IQR bounds to the train, validation, and test datasets\n",
    "df_train = apply_iqr_bounds(df_train, iqr_bounds)\n",
    "df_val = apply_iqr_bounds(df_val, iqr_bounds)\n",
    "df_test = apply_iqr_bounds(df_test, iqr_bounds)"
   ]
  },
  {
   "cell_type": "markdown",
   "metadata": {},
   "source": [
    "Again, it is best practice to check the shape of the data frame both for the test, val, and train after applying the IQR"
   ]
  },
  {
   "cell_type": "code",
   "execution_count": null,
   "metadata": {},
   "outputs": [],
   "source": [
    "print('The dataframe shape after applying the IQR:')\n",
    "print('df_train:', df_train.shape)\n",
    "print('df_val:', df_val.shape)\n",
    "print('df_test:', df_test.shape)"
   ]
  },
  {
   "cell_type": "markdown",
   "metadata": {},
   "source": [
    "#### **📌 Step 4: Align and filter the target varibales for outlier**"
   ]
  },
  {
   "cell_type": "markdown",
   "metadata": {},
   "source": [
    "It is important to ensure that the target variable (price) is aligned and filtered across the training, validation, and test datasets. This will help to maintain consistency in the data and prevent any discrepancies during model training and evaluation. The function below will help to align and filter the target variable for outliers in the datasets."
   ]
  },
  {
   "cell_type": "code",
   "execution_count": null,
   "metadata": {},
   "outputs": [],
   "source": [
    "y_train = y_train[df_train.index]\n",
    "y_val = y_val[df_val.index]\n",
    "y_test = y_test[df_test.index]"
   ]
  },
  {
   "cell_type": "markdown",
   "metadata": {},
   "source": [
    "Again, it is best practice to check the shape of the data frame both for the test, val, and train after applying the IQR"
   ]
  },
  {
   "cell_type": "code",
   "execution_count": null,
   "metadata": {},
   "outputs": [],
   "source": [
    "print( 'The target variable shape after applying the IQR:')\n",
    "print('Training data: y_train:', y_train.shape)\n",
    "print('Validation data: y_val:', y_val.shape)\n",
    "print('Testing data: y_test:', y_test.shape)"
   ]
  },
  {
   "cell_type": "markdown",
   "metadata": {},
   "source": [
    "Following the removal of outliers data, we will visualise the distribution again to see the impact of the removal of the outliers on the attribute."
   ]
  },
  {
   "cell_type": "code",
   "execution_count": null,
   "metadata": {},
   "outputs": [],
   "source": [
    "# plotting the boxplot for the numerical columns\n",
    "fig, axes = plt.subplots(1, len(numerical_columns_without_price), figsize=(15, 10))\n",
    "plt.suptitle('Boxplots of Numerical Columns after removing outliers', x=0.5, y=1.02, ha='center', fontsize='large')\n",
    "\n",
    "for i, column in enumerate(numerical_columns_without_price):\n",
    "    df_train[column].plot(kind='box', ax=axes[i])\n",
    "    axes[i].set_title(column)\n",
    "plt.tight_layout()\n",
    "plt.show()"
   ]
  },
  {
   "cell_type": "markdown",
   "metadata": {},
   "source": [
    "____"
   ]
  },
  {
   "cell_type": "markdown",
   "metadata": {},
   "source": []
  },
  {
   "cell_type": "code",
   "execution_count": null,
   "metadata": {},
   "outputs": [],
   "source": []
  },
  {
   "cell_type": "code",
   "execution_count": null,
   "metadata": {},
   "outputs": [],
   "source": []
  },
  {
   "cell_type": "markdown",
   "metadata": {},
   "source": [
    "## 🔍 Scale Numerical Columns"
   ]
  },
  {
   "cell_type": "markdown",
   "metadata": {},
   "source": [
    "After removing the outliers from the numerical columns, we will scale the numerical columns in the training, validation, and test datasets using the `StandardScaler` method from the `scikit-learn` library. This will standardize the numerical columns to have a mean of 0 and a standard deviation of 1, which will help improve the performance of machine learning models.\n"
   ]
  },
  {
   "cell_type": "code",
   "execution_count": null,
   "metadata": {},
   "outputs": [],
   "source": [
    "from sklearn.preprocessing import StandardScaler\n",
    "\n",
    "scaler = StandardScaler()\n",
    "scaler.fit(df_train[numerical_columns_without_price])\n",
    "\n",
    "X_train_num = scaler.transform(df_train[numerical_columns_without_price])\n",
    "X_val_num = scaler.transform(df_val[numerical_columns_without_price])\n",
    "X_test_num = scaler.transform(df_test[numerical_columns_without_price])"
   ]
  },
  {
   "cell_type": "code",
   "execution_count": null,
   "metadata": {},
   "outputs": [],
   "source": [
    "X_train_num"
   ]
  },
  {
   "cell_type": "code",
   "execution_count": null,
   "metadata": {},
   "outputs": [],
   "source": [
    "X_val_num "
   ]
  },
  {
   "cell_type": "code",
   "execution_count": null,
   "metadata": {},
   "outputs": [],
   "source": [
    "X_test_num"
   ]
  },
  {
   "cell_type": "code",
   "execution_count": null,
   "metadata": {},
   "outputs": [],
   "source": []
  },
  {
   "cell_type": "markdown",
   "metadata": {},
   "source": [
    "____"
   ]
  },
  {
   "cell_type": "markdown",
   "metadata": {},
   "source": [
    "## 🔍 Encode Categorical Variables"
   ]
  },
  {
   "cell_type": "markdown",
   "metadata": {},
   "source": [
    "Knowledge from the categorical inisght shows that the data is not balanced. This may affect the performance of the model. Therefore, we may need to consider encoding these categorical columns appropriately before training the model. We will use the `OneHotEncoder` method from the `scikit-learn` library to encode the categorical columns in the dataset."
   ]
  },
  {
   "cell_type": "code",
   "execution_count": null,
   "metadata": {},
   "outputs": [],
   "source": [
    "# check the categorical columns\n",
    "categorical_columns"
   ]
  },
  {
   "cell_type": "code",
   "execution_count": null,
   "metadata": {},
   "outputs": [],
   "source": [
    "from sklearn.preprocessing import OneHotEncoder\n",
    "\n",
    "# Fit encoder on df_train\n",
    "encoder = OneHotEncoder(handle_unknown='ignore', sparse_output=False)\n",
    "encoder.fit(df_train[categorical_columns])\n",
    "\n",
    "\n",
    "# Transform datasets\n",
    "X_train_cat = encoder.transform(df_train[categorical_columns])\n",
    "X_val_cat = encoder.transform(df_val[categorical_columns])\n",
    "X_test_cat = encoder.transform(df_test[categorical_columns])"
   ]
  },
  {
   "cell_type": "code",
   "execution_count": null,
   "metadata": {},
   "outputs": [],
   "source": [
    "X_train_cat "
   ]
  },
  {
   "cell_type": "code",
   "execution_count": null,
   "metadata": {},
   "outputs": [],
   "source": [
    "X_val_cat"
   ]
  },
  {
   "cell_type": "code",
   "execution_count": null,
   "metadata": {},
   "outputs": [],
   "source": [
    "X_test_cat"
   ]
  },
  {
   "cell_type": "code",
   "execution_count": null,
   "metadata": {},
   "outputs": [],
   "source": []
  },
  {
   "cell_type": "markdown",
   "metadata": {},
   "source": [
    "____"
   ]
  },
  {
   "cell_type": "markdown",
   "metadata": {},
   "source": [
    "## 🔍 Transform Target Variable (Right Skewed)"
   ]
  },
  {
   "cell_type": "markdown",
   "metadata": {},
   "source": [
    "The target varibale is right skewed, and this may affect the performance of the model. Therefore, we will transform the target variable using the `np.log1p` method to achieve a more normal distribution and improve model performance. This will help to reduce the impact of outliers and make the model more robust to variations in the data."
   ]
  },
  {
   "cell_type": "code",
   "execution_count": null,
   "metadata": {},
   "outputs": [],
   "source": [
    "y_train_log = np.log1p(y_train)\n",
    "y_val_log = np.log1p(y_val)\n",
    "y_test_log = np.log1p(y_test)"
   ]
  },
  {
   "cell_type": "code",
   "execution_count": null,
   "metadata": {},
   "outputs": [],
   "source": [
    "\n",
    "\n",
    "plt.figure(figsize=(14, 6))\n",
    "\n",
    "# Before log transformation\n",
    "plt.subplot(1, 2, 1)\n",
    "sns.histplot(y_train, bins=50, kde=True, color='skyblue')\n",
    "plt.title('Original y_train (Price)')\n",
    "plt.xlabel('Price')\n",
    "\n",
    "# After log transformation\n",
    "plt.subplot(1, 2, 2)\n",
    "sns.histplot(np.log1p(y_train), bins=50, kde=True, color='salmon')\n",
    "plt.title('Log-Transformed y_train (log1p)')\n",
    "plt.xlabel('log(Price + 1)')\n",
    "\n",
    "plt.tight_layout()\n",
    "plt.show()"
   ]
  },
  {
   "cell_type": "code",
   "execution_count": null,
   "metadata": {},
   "outputs": [],
   "source": [
    "y_train_log"
   ]
  },
  {
   "cell_type": "markdown",
   "metadata": {},
   "source": []
  },
  {
   "cell_type": "markdown",
   "metadata": {},
   "source": [
    "___"
   ]
  },
  {
   "cell_type": "markdown",
   "metadata": {},
   "source": [
    "## 🔍 Prepare the Data for Machine Learning Algorithms"
   ]
  },
  {
   "cell_type": "markdown",
   "metadata": {},
   "source": [
    "Following the feature engineering steps, we will prepare the data for machine learning algorithmsby combining the numerical and categorical columns in the training, validation, and test datasets. This will help to ensure that the data is ready for model training and evaluation."
   ]
  },
  {
   "cell_type": "code",
   "execution_count": null,
   "metadata": {},
   "outputs": [],
   "source": [
    "# Combine numeric + categorical\n",
    "X_train_final = np.hstack([X_train_num, X_train_cat])\n",
    "X_val_final = np.hstack([X_val_num, X_val_cat])\n",
    "X_test_final = np.hstack([X_test_num, X_test_cat])"
   ]
  },
  {
   "cell_type": "code",
   "execution_count": null,
   "metadata": {},
   "outputs": [],
   "source": [
    "X_train_final"
   ]
  },
  {
   "cell_type": "code",
   "execution_count": null,
   "metadata": {},
   "outputs": [],
   "source": [
    "X_val_final "
   ]
  },
  {
   "cell_type": "code",
   "execution_count": null,
   "metadata": {},
   "outputs": [],
   "source": [
    "X_test_final"
   ]
  },
  {
   "cell_type": "code",
   "execution_count": null,
   "metadata": {},
   "outputs": [],
   "source": []
  },
  {
   "cell_type": "markdown",
   "metadata": {},
   "source": [
    "# 📚 7. BUILDING AND TRAINING THE MODEL\n",
    "___\n",
    "\n",
    "<div style=\"font-family: Avenir, sans-serif; font-size: 16px; line-height: 1.6; color: white; background-color: #333; padding: 10px; border-radius: 5px;\">\n",
    "This section deals with building and training machine learning models to predict diamond prices. We will train regression models such as Linear Regression, Decision Trees, Random Forest, Gradient Boosting, and XGBoost to predict diamond prices. We will also perform hyperparameter tuning and evaluate the models using RMSE, MAE, and R² scores.\n",
    "\n",
    "</div>"
   ]
  },
  {
   "cell_type": "markdown",
   "metadata": {},
   "source": [
    "## 🔍 Model Selection for Diamond Price Prediction\n",
    "\n",
    "The success of this project hinges on selecting and combining the **right regression models** to accurately predict the **price of diamonds** based on key attributes such as identity, carat, cut, color, clarity, depth, and dimensions.\n",
    "\n",
    "To capture both **linear and non-linear relationships** in the data, we employ a diverse set of six powerful regressors, each bringing unique strengths to the modeling process:\n",
    "\n",
    "- **`LinearRegression`**  \n",
    "  A fundamental linear model that serves as a reliable baseline. It assumes a linear relationship between the independent variables and the target (diamond price), offering interpretability and speed.\n",
    "\n",
    "- **`DecisionTreeRegressor`**  \n",
    "  A rule-based, tree-structured model that captures non-linear patterns by recursively splitting the data based on feature thresholds. It performs well on smaller datasets and provides clear decision logic.\n",
    "\n",
    "- **`XGBRegressor`**  \n",
    "  A robust and regularized implementation of gradient boosting from the XGBoost library. It excels in handling complex, high-dimensional data and is known for its accuracy and scalability.\n",
    "\n",
    "- **`LGBMRegressor`**  \n",
    "  A high-performance gradient boosting framework from LightGBM. It is optimized for speed and efficiency, making it well-suited for large datasets with many features.\n",
    "\n",
    "- **`CatBoostRegressor`**  \n",
    "  Developed by Yandex, this gradient boosting algorithm is designed to natively handle categorical variables without extensive preprocessing. It often performs exceptionally well on mixed-type datasets.\n",
    "\n",
    "- **`RandomForestRegressor`**  \n",
    "  An ensemble learning method that builds multiple decision trees and averages their predictions. It helps reduce overfitting and increases robustness by introducing randomness into the learning process.\n",
    "\n",
    "By combining these diverse models, we aim to leverage their individual strengths and achieve a more accurate and stable prediction of diamond prices. Each model will be trained on the preprocessed data and evaluated using regression metrics to assess its performance.\n",
    "\n",
    "### 🧠 Ensemble Strategy: Voting Regressor\n",
    "\n",
    "To further enhance the predictive power of our models, we will implement an ensemble learning technique known as **Voting Regressor**. This method combines the outputs of multiple base estimators to generate a final prediction, leveraging the collective wisdom of diverse models.\n",
    "\n",
    "> \n",
    "> The `VotingRegressor` combines the outputs of each individual model by **averaging their predictions**, leading to a more balanced and generalized final prediction.\n",
    "\n"
   ]
  },
  {
   "cell_type": "markdown",
   "metadata": {},
   "source": []
  },
  {
   "cell_type": "markdown",
   "metadata": {},
   "source": []
  },
  {
   "cell_type": "markdown",
   "metadata": {},
   "source": []
  },
  {
   "cell_type": "markdown",
   "metadata": {},
   "source": [
    "# 📚 7. EVALUATING THE MODEL\n",
    "___\n",
    "\n",
    "<div style=\"font-family: Avenir, sans-serif; font-size: 16px; line-height: 1.6; color: white; background-color: #333; padding: 10px; border-radius: 5px;\">\n",
    "This section deals with ...\n",
    "\n",
    "</div>"
   ]
  },
  {
   "cell_type": "code",
   "execution_count": null,
   "metadata": {},
   "outputs": [],
   "source": []
  },
  {
   "cell_type": "markdown",
   "metadata": {},
   "source": [
    "# 📚 8. MODEL DEPLOYMENT\n",
    "___\n",
    "\n",
    "<div style=\"font-family: Avenir, sans-serif; font-size: 16px; line-height: 1.6; color: white; background-color: #333; padding: 10px; border-radius: 5px;\">\n",
    "This section deals with ...\n",
    "\n",
    "</div>"
   ]
  },
  {
   "cell_type": "code",
   "execution_count": null,
   "metadata": {},
   "outputs": [],
   "source": []
  }
 ],
 "metadata": {
  "kernelspec": {
   "display_name": "machine-learning-env",
   "language": "python",
   "name": "python3"
  },
  "language_info": {
   "codemirror_mode": {
    "name": "ipython",
    "version": 3
   },
   "file_extension": ".py",
   "mimetype": "text/x-python",
   "name": "python",
   "nbconvert_exporter": "python",
   "pygments_lexer": "ipython3",
   "version": "3.10.13"
  }
 },
 "nbformat": 4,
 "nbformat_minor": 2
}
